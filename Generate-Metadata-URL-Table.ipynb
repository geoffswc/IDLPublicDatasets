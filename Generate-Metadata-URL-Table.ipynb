{
 "cells": [
  {
   "cell_type": "code",
   "execution_count": null,
   "id": "6c48770e",
   "metadata": {},
   "outputs": [],
   "source": [
    "import json\n",
    "import pandas as pd\n",
    "import glob\n",
    "import xmltodict, json\n",
    "from pandasql import sqldf"
   ]
  },
  {
   "cell_type": "code",
   "execution_count": null,
   "id": "1f5f0279",
   "metadata": {},
   "outputs": [],
   "source": [
    "pysqldf = lambda q: sqldf(q, globals())"
   ]
  },
  {
   "cell_type": "code",
   "execution_count": null,
   "id": "a73e01bd",
   "metadata": {},
   "outputs": [],
   "source": [
    "pd.set_option('display.max_colwidth', None)\n",
    "pd.set_option('display.max_columns', None)\n",
    "#pd.set_option('display.max_rows', None)"
   ]
  },
  {
   "cell_type": "code",
   "execution_count": null,
   "id": "3c2e67de",
   "metadata": {},
   "outputs": [],
   "source": [
    "files = glob.glob('IADownloads/*')\n",
    "\n",
    "rows = []\n",
    "\n",
    "for file in files:\n",
    "    print(file)\n",
    "    row = []\n",
    "    \n",
    "    fname = file.split('/')[1]\n",
    "    \n",
    "    if fname != 'Search_IA.ipynb':\n",
    "    \n",
    "        with open(file + '/' + file.split('/')[1] + '_meta.xml') as f:\n",
    "\n",
    "            try:\n",
    "                jsn = xmltodict.parse(f.read())\n",
    "\n",
    "                row.append(jsn['metadata']['identifier'])\n",
    "                row.append(','.join(jsn['metadata']['collection']))\n",
    "                row.append(jsn['metadata']['mediatype'])\n",
    "                row.append(jsn['metadata']['title'])\n",
    "                if 'date' in jsn['metadata']:\n",
    "                    row.append(jsn['metadata']['date'])\n",
    "                elif 'year' in jsn['metadata']:\n",
    "                    row.append(jsn['metadata']['year'])\n",
    "                else:\n",
    "                    row.append('')\n",
    "                if 'description' in jsn['metadata']:\n",
    "                    row.append(jsn['metadata']['description'])\n",
    "                else:\n",
    "                    row.append('')\n",
    "                row.append(','.join(jsn['metadata']['subject'].split(';')[:-1]))\n",
    "            except:\n",
    "                print('error in', file)\n",
    "        rows.append(row)"
   ]
  },
  {
   "cell_type": "code",
   "execution_count": null,
   "id": "fb6e58c9",
   "metadata": {},
   "outputs": [],
   "source": [
    "len(rows[0])"
   ]
  },
  {
   "cell_type": "code",
   "execution_count": null,
   "id": "d0ead987",
   "metadata": {},
   "outputs": [],
   "source": [
    "df_metadata = pd.DataFrame(rows, columns=['identifier', 'collection', 'title', 'mediatype', 'year', 'description','subject'])"
   ]
  },
  {
   "cell_type": "code",
   "execution_count": null,
   "id": "4bd4f775",
   "metadata": {},
   "outputs": [],
   "source": [
    "df_metadata"
   ]
  },
  {
   "cell_type": "code",
   "execution_count": null,
   "id": "a0ac3a71",
   "metadata": {},
   "outputs": [],
   "source": [
    "#df_metadata.to_csv('metadata.csv', index=False)"
   ]
  },
  {
   "cell_type": "code",
   "execution_count": null,
   "id": "40a548c4",
   "metadata": {},
   "outputs": [],
   "source": [
    "files = glob.glob('IADownloads/*')\n",
    "\n",
    "rows = []\n",
    "for file in files:\n",
    "    \n",
    "    fname = file.split('/')[1]\n",
    "    print(file, fname)\n",
    "    \n",
    "    if fname != 'Search_IA.ipynb':\n",
    "    \n",
    "        with open(file + '/' + fname + '_files.xml') as f:\n",
    "\n",
    "            jsn = xmltodict.parse(f.read())\n",
    "            \n",
    "            #print(jsn.keys())\n",
    "            \n",
    "            for f in jsn['files']['file']:  \n",
    "                #print(f)\n",
    "                #print('***', f['@name'].split('.')[-1])\n",
    "                row = []\n",
    "                if f['@name'].split('.')[-1] == 'mp4':  \n",
    "                    dl = f['@name']\n",
    "                    s = int(f['size'])\n",
    "                    l = float(f['length'])\n",
    "                    url = 'https://archive.org/download/' + file.split('/')[1] + '/' + dl\n",
    "                    row.append(file.split('/')[1])\n",
    "                    row.append(dl)\n",
    "                    row.append(s)\n",
    "                    row.append(l)\n",
    "                    row.append(url)\n",
    "                    #print(row)\n",
    "                    rows.append(row)\n"
   ]
  },
  {
   "cell_type": "code",
   "execution_count": null,
   "id": "1077cab7",
   "metadata": {},
   "outputs": [],
   "source": [
    "df_files = pd.DataFrame(rows, columns=['identifier', 'name', 'size', 'length', 'url'])"
   ]
  },
  {
   "cell_type": "code",
   "execution_count": null,
   "id": "02f44d36",
   "metadata": {},
   "outputs": [],
   "source": [
    "df = pd.merge(df_files, df_metadata,on='identifier')"
   ]
  },
  {
   "cell_type": "code",
   "execution_count": null,
   "id": "cfe7b3ee",
   "metadata": {},
   "outputs": [],
   "source": [
    "df.to_csv('csv_files/metadata_links.csv', index=False)"
   ]
  },
  {
   "cell_type": "code",
   "execution_count": null,
   "id": "7ebeb4a3",
   "metadata": {},
   "outputs": [],
   "source": [
    "df.head()"
   ]
  },
  {
   "cell_type": "code",
   "execution_count": null,
   "id": "ec4ae413",
   "metadata": {},
   "outputs": [],
   "source": [
    "cloud_data_transfer = pysqldf(\"\"\"\n",
    "SELECT DISTINCT url FROM df\n",
    "WHERE url NOT LIKE '%.ia.%'\n",
    "\"\"\")"
   ]
  },
  {
   "cell_type": "code",
   "execution_count": null,
   "id": "0d85423a",
   "metadata": {},
   "outputs": [],
   "source": [
    "cloud_data_transfer.columns = ['TsvHttpData-1.0']"
   ]
  },
  {
   "cell_type": "code",
   "execution_count": null,
   "id": "82425bc7",
   "metadata": {},
   "outputs": [],
   "source": [
    "cloud_data_transfer"
   ]
  },
  {
   "cell_type": "code",
   "execution_count": null,
   "id": "67a57eeb",
   "metadata": {},
   "outputs": [],
   "source": [
    "cloud_data_transfer.to_csv('csv_files/cloud_data_transfer.tsv', sep='\\t',index=False)"
   ]
  },
  {
   "cell_type": "code",
   "execution_count": null,
   "id": "6d127861",
   "metadata": {},
   "outputs": [],
   "source": []
  }
 ],
 "metadata": {
  "kernelspec": {
   "display_name": "Python 3 (ipykernel)",
   "language": "python",
   "name": "python3"
  },
  "language_info": {
   "codemirror_mode": {
    "name": "ipython",
    "version": 3
   },
   "file_extension": ".py",
   "mimetype": "text/x-python",
   "name": "python",
   "nbconvert_exporter": "python",
   "pygments_lexer": "ipython3",
   "version": "3.9.7"
  }
 },
 "nbformat": 4,
 "nbformat_minor": 5
}
