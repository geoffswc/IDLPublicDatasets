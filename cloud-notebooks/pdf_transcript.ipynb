{
 "cells": [
  {
   "cell_type": "code",
   "execution_count": null,
   "id": "a342da36-2273-41f9-b868-7adde968b959",
   "metadata": {
    "tags": []
   },
   "outputs": [],
   "source": [
    "import json\n",
    "import re\n",
    "from google.cloud import vision\n",
    "from google.cloud import storage"
   ]
  },
  {
   "cell_type": "code",
   "execution_count": null,
   "id": "496e4616-21b1-4169-8150-98ba71e9b1d4",
   "metadata": {
    "tags": []
   },
   "outputs": [],
   "source": [
    "mime_type = \"application/pdf\""
   ]
  },
  {
   "cell_type": "code",
   "execution_count": null,
   "id": "83c8b879-b0df-4bf0-97b9-bb8ead6b7ef3",
   "metadata": {
    "tags": []
   },
   "outputs": [],
   "source": [
    "# How many pages should be grouped into each json output file.\n",
    "batch_size = 1"
   ]
  },
  {
   "cell_type": "code",
   "execution_count": null,
   "id": "09cdb906-5267-4901-ad3f-cbb2a095d06c",
   "metadata": {
    "tags": []
   },
   "outputs": [],
   "source": [
    "client = vision.ImageAnnotatorClient()"
   ]
  },
  {
   "cell_type": "code",
   "execution_count": null,
   "id": "dcb6ba81-b50a-4f5c-a9c6-f220cd13eb68",
   "metadata": {
    "tags": []
   },
   "outputs": [],
   "source": [
    "gcs_source_uri = \"gs://idl-dsos-transcript/pdf_files/lfbp0045.pdf\"\n",
    "gcs_destination_uri = \"gs://idl-dsos-transcript/json_files/\""
   ]
  },
  {
   "cell_type": "code",
   "execution_count": null,
   "id": "1bafd774-4ce0-4743-a326-ccf38926d666",
   "metadata": {
    "tags": []
   },
   "outputs": [],
   "source": [
    "feature = vision.Feature(type_=vision.Feature.Type.DOCUMENT_TEXT_DETECTION)\n",
    "gcs_source = vision.GcsSource(uri=gcs_source_uri)\n",
    "gcs_destination = vision.GcsDestination(uri=gcs_destination_uri)"
   ]
  },
  {
   "cell_type": "code",
   "execution_count": null,
   "id": "9e86d964-7b07-4974-9ea0-c900117a329b",
   "metadata": {
    "tags": []
   },
   "outputs": [],
   "source": [
    "input_config = vision.InputConfig(gcs_source=gcs_source, mime_type=mime_type)"
   ]
  },
  {
   "cell_type": "code",
   "execution_count": null,
   "id": "21912c8a-35e5-4900-bf5d-4f35c6b5ad0e",
   "metadata": {
    "tags": []
   },
   "outputs": [],
   "source": [
    "output_config = vision.OutputConfig(\n",
    "    gcs_destination=gcs_destination, batch_size=batch_size\n",
    ")"
   ]
  },
  {
   "cell_type": "code",
   "execution_count": null,
   "id": "769068ec-0654-42cd-b858-732317b7a3ca",
   "metadata": {
    "tags": []
   },
   "outputs": [],
   "source": [
    "async_request = vision.AsyncAnnotateFileRequest(\n",
    "    features=[feature], input_config=input_config, output_config=output_config\n",
    ")\n",
    "\n",
    "operation = client.async_batch_annotate_files(requests=[async_request])\n",
    "\n",
    "print(\"Waiting for the operation to finish.\")\n",
    "operation.result(timeout=480)"
   ]
  },
  {
   "cell_type": "code",
   "execution_count": null,
   "id": "31aaf225-ac6c-4476-b18b-d5921277fdef",
   "metadata": {
    "tags": []
   },
   "outputs": [],
   "source": [
    "# Once the request has completed and the output has been\n",
    "# written to GCS, we can list all the output files.\n",
    "storage_client = storage.Client()\n",
    "\n",
    "match = re.match(r\"gs://([^/]+)/(.+)\", gcs_destination_uri)\n",
    "bucket_name = match.group(1)\n",
    "prefix = match.group(2)\n",
    "\n",
    "bucket = storage_client.get_bucket(bucket_name)"
   ]
  },
  {
   "cell_type": "code",
   "execution_count": null,
   "id": "61f899ab-69b0-4687-92cb-50181fc94c66",
   "metadata": {
    "tags": []
   },
   "outputs": [],
   "source": [
    "blob_list = [\n",
    "    blob\n",
    "    for blob in list(bucket.list_blobs(prefix=prefix))\n",
    "    if not blob.name.endswith(\"/\")\n",
    "]\n",
    "print(\"Output files:\")\n",
    "for blob in blob_list:\n",
    "    print(blob.name)"
   ]
  },
  {
   "cell_type": "code",
   "execution_count": null,
   "id": "62aa7425-e630-4ec5-b323-ab2fdb7b8433",
   "metadata": {
    "tags": []
   },
   "outputs": [],
   "source": [
    "output = blob_list[0]\n",
    "\n",
    "json_string = output.download_as_bytes().decode(\"utf-8\")\n",
    "response = json.loads(json_string)\n",
    "\n",
    "# The actual response for the first page of the input file.\n",
    "first_page_response = response[\"responses\"][0]\n",
    "annotation = first_page_response[\"fullTextAnnotation\"]"
   ]
  },
  {
   "cell_type": "code",
   "execution_count": null,
   "id": "063e5cae-c823-4a1c-acbe-2e7024561e26",
   "metadata": {
    "tags": []
   },
   "outputs": [],
   "source": [
    "for output in blob_list:\n",
    "    json_string = output.download_as_bytes().decode(\"utf-8\")\n",
    "    response = json.loads(json_string)\n",
    "\n",
    "    for r in response[\"responses\"]:\n",
    "        print(r[\"fullTextAnnotation\"][\"text\"])"
   ]
  }
 ],
 "metadata": {
  "environment": {
   "kernel": "python3",
   "name": "tf2-cpu.2-11.m113",
   "type": "gcloud",
   "uri": "gcr.io/deeplearning-platform-release/tf2-cpu.2-11:m113"
  },
  "kernelspec": {
   "display_name": "Python 3 (ipykernel)",
   "language": "python",
   "name": "python3"
  },
  "language_info": {
   "codemirror_mode": {
    "name": "ipython",
    "version": 3
   },
   "file_extension": ".py",
   "mimetype": "text/x-python",
   "name": "python",
   "nbconvert_exporter": "python",
   "pygments_lexer": "ipython3",
   "version": "3.9.7"
  }
 },
 "nbformat": 4,
 "nbformat_minor": 5
}
