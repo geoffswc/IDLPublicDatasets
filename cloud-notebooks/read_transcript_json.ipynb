{
 "cells": [
  {
   "cell_type": "code",
   "execution_count": null,
   "id": "86028901-3cc0-40f0-a593-3fb090488310",
   "metadata": {
    "tags": []
   },
   "outputs": [],
   "source": [
    "from google.cloud import storage\n",
    "import json\n",
    "import numpy as np\n",
    "import pandas as pd"
   ]
  },
  {
   "cell_type": "code",
   "execution_count": null,
   "id": "39662dce-ee2f-46c9-8344-21f4d1006272",
   "metadata": {
    "tags": []
   },
   "outputs": [],
   "source": [
    "bucket_name = \"output-idl-json-files\""
   ]
  },
  {
   "cell_type": "code",
   "execution_count": null,
   "id": "240caf61-b3b9-4e38-9357-9b5267d2d0ed",
   "metadata": {
    "tags": []
   },
   "outputs": [],
   "source": [
    "def list_blobs(bucket_name):\n",
    "    storage_client = storage.Client()\n",
    "\n",
    "    blobs = storage_client.list_blobs(bucket_name)\n",
    "\n",
    "    json_files = []\n",
    "    for blob in blobs:\n",
    "        json_files.append(blob.name)\n",
    "    return json_files"
   ]
  },
  {
   "cell_type": "code",
   "execution_count": null,
   "id": "c06e039f-3f3b-4a8d-9682-640758a7b380",
   "metadata": {
    "tags": []
   },
   "outputs": [],
   "source": [
    "json_files = list_blobs(bucket_name)"
   ]
  },
  {
   "cell_type": "code",
   "execution_count": null,
   "id": "fdc02924-5dfe-481d-87f8-bda75efbecae",
   "metadata": {
    "tags": []
   },
   "outputs": [],
   "source": [
    "json_files"
   ]
  },
  {
   "cell_type": "code",
   "execution_count": null,
   "id": "1cbe5632-b7ca-4087-a0e5-2845dcf6f053",
   "metadata": {
    "tags": []
   },
   "outputs": [],
   "source": [
    "def read_blob(bucket_name, blob_name):\n",
    "    \"\"\"Write and read a blob from GCS using file-like IO\"\"\"\n",
    "    # The ID of your GCS bucket\n",
    "    # bucket_name = \"your-bucket-name\"\n",
    "\n",
    "    # The ID of your new GCS object\n",
    "    # blob_name = \"storage-object-name\"\n",
    "\n",
    "    storage_client = storage.Client()\n",
    "    bucket = storage_client.bucket(bucket_name)\n",
    "    blob = bucket.blob(blob_name)\n",
    "\n",
    "    # Mode can be specified as wb/rb for bytes mode.\n",
    "    # See: https://docs.python.org/3/library/io.html\n",
    "\n",
    "    res = \"\"\n",
    "    with blob.open(\"r\") as f:\n",
    "        res = json.load(f)\n",
    "        \n",
    "    return res"
   ]
  },
  {
   "cell_type": "code",
   "execution_count": null,
   "id": "c086e0af-3b82-42bd-bf2f-bdd2f4244692",
   "metadata": {
    "tags": []
   },
   "outputs": [],
   "source": [
    "res = read_blob(\"output-idl-json-files\", \"archive.org/download/tobacco_kon79e00/VTS_01_1_512kb.mp4.json\")"
   ]
  },
  {
   "cell_type": "code",
   "execution_count": null,
   "id": "e5ab07f7-5478-4bd7-8ed9-19f9f9466954",
   "metadata": {
    "tags": []
   },
   "outputs": [],
   "source": [
    "res['annotation_results'][1].keys()"
   ]
  },
  {
   "cell_type": "code",
   "execution_count": null,
   "id": "e893449a-fe31-44ab-8f60-b932e04bde5d",
   "metadata": {
    "tags": []
   },
   "outputs": [],
   "source": [
    "for sla in res['annotation_results'][1]['text_annotations']:\n",
    "    print(sla)\n",
    "    print(sla['text'])\n",
    "    break"
   ]
  },
  {
   "cell_type": "code",
   "execution_count": null,
   "id": "ebd0e5af-d032-43be-a76b-4458c832e308",
   "metadata": {
    "tags": []
   },
   "outputs": [],
   "source": [
    "res['annotation_results'][1]['shot_label_annotations'][2]"
   ]
  },
  {
   "cell_type": "code",
   "execution_count": null,
   "id": "38686925-7500-468e-b2dc-52c0049284f5",
   "metadata": {},
   "outputs": [],
   "source": [
    "#for now, we'll leave these out because they're so numerous, but they could really matter\n",
    "#len(res['annotation_results'][0]['text_annotations']) \n",
    "# (this is almost 3,0000! mainly because of date/time stamps in each segment)"
   ]
  },
  {
   "cell_type": "code",
   "execution_count": null,
   "id": "f64a3610-4a92-47c2-8256-5251d8dc3210",
   "metadata": {
    "tags": []
   },
   "outputs": [],
   "source": [
    "res['annotation_results'][1]['logo_recognition_annotations'][0]['entity']['description']"
   ]
  },
  {
   "cell_type": "code",
   "execution_count": null,
   "id": "bcf2d6c4-9282-4dd5-9db0-9d9f4609e213",
   "metadata": {
    "tags": []
   },
   "outputs": [],
   "source": [
    "res['annotation_results'][0].keys()"
   ]
  },
  {
   "cell_type": "code",
   "execution_count": null,
   "id": "c5d574b6-9c7a-42bb-ab33-58031bf38ade",
   "metadata": {
    "tags": []
   },
   "outputs": [],
   "source": [
    "res['annotation_results'][0]['speech_transcriptions'][0]['alternatives'][0].keys()"
   ]
  },
  {
   "cell_type": "code",
   "execution_count": null,
   "id": "48920d92-3c64-4889-b69a-ff6f0c114c01",
   "metadata": {
    "tags": []
   },
   "outputs": [],
   "source": [
    "res['annotation_results'][0]['speech_transcriptions'][0]['alternatives'][0]['transcript']"
   ]
  },
  {
   "cell_type": "code",
   "execution_count": null,
   "id": "49951dde-a629-47fa-9c9f-395dcadfad16",
   "metadata": {
    "tags": []
   },
   "outputs": [],
   "source": [
    "#res"
   ]
  },
  {
   "cell_type": "code",
   "execution_count": null,
   "id": "356b9368-42d1-4fc2-abb5-e94272451b9c",
   "metadata": {
    "tags": []
   },
   "outputs": [],
   "source": [
    "#json_file['annotation_results'][0]['speech_transcriptions'][0]['alternatives'][0]['transcript']\n",
    "#json_file['annotation_results'][0]['speech_transcriptions'][0]['alternatives'][0]['confidence']"
   ]
  },
  {
   "cell_type": "code",
   "execution_count": null,
   "id": "6d211cd2-68f2-4533-adb2-8cbfbb868390",
   "metadata": {
    "tags": []
   },
   "outputs": [],
   "source": [
    "transcripts = []\n",
    "embedded_texts = []\n",
    "confidences = []\n",
    "labels = []\n",
    "uris = []\n",
    "logos = []\n",
    "\n",
    "for json_file in json_files:\n",
    "\n",
    "    print(\"processing\", json_file)\n",
    "    res = read_blob(bucket_name, json_file)\n",
    "    \n",
    "    file_transcript = []\n",
    "    embedded_text = []\n",
    "    file_confidence = []\n",
    "    label = []\n",
    "    logo = []\n",
    "    \n",
    "    #print('al', len(res['annotation_results']))\n",
    "    \n",
    "    #try:\n",
    "\n",
    "    if 'annotation_results' in res:\n",
    "\n",
    "        for i, annotation in enumerate(res['annotation_results']):\n",
    "\n",
    "            # The number of alternatives for each transcription is limited by\n",
    "            # SpeechTranscriptionConfig.max_alternatives.\n",
    "            # Each alternative is a different possible transcription\n",
    "            # and has its own confidence score.\n",
    "\n",
    "            if 'text_annotations' in annotation:\n",
    "                for ta in annotation['text_annotations']:\n",
    "                    embedded_text.append(ta['text'])\n",
    "                    \n",
    "                embedded_texts.append([json_file, ','.join(embedded_text)])\n",
    "               \n",
    "            if 'segment_label_annotations' in annotation:\n",
    "                for sla in annotation['segment_label_annotations']:\n",
    "                    label.append(sla['entity']['description'])\n",
    "                    #print(sla['entity']['description'])\n",
    "\n",
    "                labels.append([json_file, ','.join(label)])\n",
    "\n",
    "            if 'logo_recognition_annotations' in annotation:\n",
    "                for lra in annotation['logo_recognition_annotations']:\n",
    "                    logo.append(lra['entity']['description'])\n",
    "                    #print(sla['entity']['description'])\n",
    "\n",
    "                logos.append([json_file, ','.join(logo)])\n",
    "  \n",
    "            if \"speech_transcriptions\" in annotation:\n",
    "                #print(\"transcription found for\", json_file)\n",
    "                for speech_transcription in annotation['speech_transcriptions']:\n",
    "                    #print(\"transcript for\", json_file)\n",
    "                    for alternative in speech_transcription['alternatives']:\n",
    "                        if 'transcript' in alternative.keys() and 'confidence' in alternative.keys():\n",
    "                            file_transcript.append(alternative['transcript'])\n",
    "                            file_confidence.append(float(alternative['confidence']))                      \n",
    "\n",
    "                if file_confidence == []:\n",
    "                    mean_confidence = 0\n",
    "                else:\n",
    "                    mean_confidence = np.mean(file_confidence)\n",
    "\n",
    "                confidences.append([json_file, mean_confidence])\n",
    "                transcripts.append([json_file, ''.join(file_transcript)])\n",
    "\n",
    "            \n",
    "    #except:\n",
    "    #    print(\"file not read\")"
   ]
  },
  {
   "cell_type": "code",
   "execution_count": null,
   "id": "c55d7438-3b5d-4d6b-81e5-ca24a45664af",
   "metadata": {
    "tags": []
   },
   "outputs": [],
   "source": [
    "len(embedded_texts)"
   ]
  },
  {
   "cell_type": "code",
   "execution_count": null,
   "id": "764c3ed4-5707-4b1e-8adf-0b9d5bee01fb",
   "metadata": {
    "tags": []
   },
   "outputs": [],
   "source": [
    "#embedded_texts[0]"
   ]
  },
  {
   "cell_type": "code",
   "execution_count": null,
   "id": "01e20ba5-7539-431a-baf8-e56e774f6da6",
   "metadata": {
    "tags": []
   },
   "outputs": [],
   "source": [
    "df_transcripts = pd.DataFrame(transcripts, columns=['uri', 'transcript'])\n",
    "df_confidences = pd.DataFrame(confidences, columns=['uri', 'confidence'])\n",
    "df_labels = pd.DataFrame(labels, columns=['uri', 'labels'])\n",
    "df_logos = pd.DataFrame(logos, columns=['uri', 'logos'])"
   ]
  },
  {
   "cell_type": "code",
   "execution_count": null,
   "id": "0ab2ba04-c2bb-42c3-9427-6f5593607c28",
   "metadata": {
    "tags": []
   },
   "outputs": [],
   "source": [
    "df_embedded_texts = pd.DataFrame(embedded_texts, columns=['uri', 'embedded_texts'])"
   ]
  },
  {
   "cell_type": "code",
   "execution_count": null,
   "id": "ae1dea89-08d4-4e45-a0b0-202e3519b472",
   "metadata": {
    "tags": []
   },
   "outputs": [],
   "source": [
    "# because not all records have labels or logos, we need to merge them all through an outer join\n",
    "\n",
    "df_transcripts_annotations = df_transcripts.merge(df_confidences,on='uri',how='outer').merge(df_labels,on='uri',how='outer').merge(df_logos,on='uri',how='outer').merge(df_embedded_texts,on='uri',how='outer')"
   ]
  },
  {
   "cell_type": "code",
   "execution_count": null,
   "id": "823769cc-da4f-4c4d-a8b0-bb665b8edb2e",
   "metadata": {
    "tags": []
   },
   "outputs": [],
   "source": [
    "df_transcripts_annotations.head(1)"
   ]
  },
  {
   "cell_type": "code",
   "execution_count": null,
   "id": "600baf85-1e12-47eb-85d4-30d38e0e4663",
   "metadata": {
    "tags": []
   },
   "outputs": [],
   "source": [
    "#df_transcripts_annotations.iloc[9]"
   ]
  },
  {
   "cell_type": "code",
   "execution_count": null,
   "id": "fd8c3d11-a21f-4ee1-93dd-4d18054b7399",
   "metadata": {
    "tags": []
   },
   "outputs": [],
   "source": [
    "#df_transcripts_annotations.iloc[9]['uri']"
   ]
  },
  {
   "cell_type": "code",
   "execution_count": null,
   "id": "973431c4-3055-4286-be1e-675faa1f3bc5",
   "metadata": {
    "tags": []
   },
   "outputs": [],
   "source": [
    "#df_transcripts_annotations.iloc[9]['logos']"
   ]
  },
  {
   "cell_type": "code",
   "execution_count": null,
   "id": "0c3c0869-9c39-4c00-b69e-d3e858292f2f",
   "metadata": {
    "tags": []
   },
   "outputs": [],
   "source": [
    "#df_transcripts_annotations.iloc[9]['labels']"
   ]
  },
  {
   "cell_type": "code",
   "execution_count": null,
   "id": "a76eb9eb-479c-44a8-9581-f600a543fee0",
   "metadata": {
    "tags": []
   },
   "outputs": [],
   "source": [
    "#df_transcripts_annotations.iloc[9]['transcript']"
   ]
  },
  {
   "cell_type": "code",
   "execution_count": null,
   "id": "75393915-ca05-4715-8717-3be656a99af2",
   "metadata": {},
   "outputs": [],
   "source": [
    "client = storage.Client()\n",
    "bucket = client.get_bucket('pandas_output')\n",
    "    \n",
    "bucket.blob('transcripts-confidences.csv').upload_from_string(df_transcripts_annotations.to_csv(), 'text/csv')"
   ]
  },
  {
   "cell_type": "code",
   "execution_count": null,
   "id": "d18d9c14-069c-452a-a3db-768e5a789d71",
   "metadata": {
    "tags": []
   },
   "outputs": [],
   "source": []
  },
  {
   "cell_type": "code",
   "execution_count": null,
   "id": "b91b1b00-2830-4883-a7ed-bc5665b5f83b",
   "metadata": {},
   "outputs": [],
   "source": []
  }
 ],
 "metadata": {
  "environment": {
   "kernel": "python3",
   "name": "tf2-cpu.2-11.m113",
   "type": "gcloud",
   "uri": "gcr.io/deeplearning-platform-release/tf2-cpu.2-11:m113"
  },
  "kernelspec": {
   "display_name": "Python 3 (ipykernel)",
   "language": "python",
   "name": "python3"
  },
  "language_info": {
   "codemirror_mode": {
    "name": "ipython",
    "version": 3
   },
   "file_extension": ".py",
   "mimetype": "text/x-python",
   "name": "python",
   "nbconvert_exporter": "python",
   "pygments_lexer": "ipython3",
   "version": "3.9.7"
  }
 },
 "nbformat": 4,
 "nbformat_minor": 5
}
