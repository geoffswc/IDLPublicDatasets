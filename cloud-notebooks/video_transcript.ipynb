{
 "cells": [
  {
   "cell_type": "code",
   "execution_count": null,
   "id": "f3e58481-174d-4f5e-8380-68ed6eaa905d",
   "metadata": {
    "tags": []
   },
   "outputs": [],
   "source": [
    "#!pip install --upgrade google-cloud-videointelligence"
   ]
  },
  {
   "cell_type": "code",
   "execution_count": null,
   "id": "bafe33c5-7636-4a37-a51e-73db52f91c0b",
   "metadata": {
    "tags": []
   },
   "outputs": [],
   "source": [
    "from google.cloud import videointelligence\n",
    "import yaml\n",
    "import os\n",
    "from google.protobuf.json_format import MessageToDict\n",
    "from google.cloud import storage\n",
    "import json"
   ]
  },
  {
   "cell_type": "code",
   "execution_count": null,
   "id": "09cc159a-44c8-4583-9295-ccfa62efdf5f",
   "metadata": {
    "tags": []
   },
   "outputs": [],
   "source": [
    "#not needed when the notebook owner is the project with permissions\n",
    "#with open('properties.yaml') as file:\n",
    "#    properties = yaml.full_load(file)\n",
    "\n",
    "#os.environ[\"GOOGLE_APPLICATION_CREDENTIALS\"] = properties['google_application_credentials']"
   ]
  },
  {
   "cell_type": "code",
   "execution_count": null,
   "id": "47a0824a-a724-4495-a685-ef37f0c4f5bf",
   "metadata": {
    "tags": []
   },
   "outputs": [],
   "source": [
    "# note - this threw an error about Feature not being available on videointelligence\n",
    "# I reinstalled through pip above and reset kernel, and then it ran. \n",
    "# not sure why but try that if you have trouble.\n",
    "\n",
    "video_client = videointelligence.VideoIntelligenceServiceClient()\n",
    "features = [videointelligence.Feature.SPEECH_TRANSCRIPTION]"
   ]
  },
  {
   "cell_type": "code",
   "execution_count": null,
   "id": "76208aee-fd7f-4e45-b0ed-2dc43c384440",
   "metadata": {
    "tags": []
   },
   "outputs": [],
   "source": [
    "config = videointelligence.SpeechTranscriptionConfig(\n",
    "    language_code=\"en-US\", enable_automatic_punctuation=True\n",
    ")"
   ]
  },
  {
   "cell_type": "code",
   "execution_count": null,
   "id": "907d4dba-616d-434b-9b6f-daae778b2fca",
   "metadata": {
    "tags": []
   },
   "outputs": [],
   "source": [
    "path = 'gs://idl-dsos-transcript/video_files/archive.org/download/20230829073017_opioids_xypn0282/xypn0282-0001.mp4'\n",
    "\n",
    "video_context = videointelligence.VideoContext(speech_transcription_config=config)\n",
    "\n",
    "operation = video_client.annotate_video(\n",
    "    request={\n",
    "        \"features\": features,\n",
    "        \"input_uri\": path,\n",
    "        \"video_context\": video_context,\n",
    "    }\n",
    ")\n",
    "\n",
    "video_context = videointelligence.VideoContext(speech_transcription_config=config)\n",
    "\n",
    "\n",
    "operation = video_client.annotate_video(\n",
    "    request={\n",
    "        \"features\": features,\n",
    "        \"input_uri\": path,\n",
    "        \"video_context\": video_context,\n",
    "    }\n",
    ")\n",
    "\n",
    "print(\"\\nProcessing video for speech transcription.\")\n",
    "\n",
    "result = operation.result(timeout=6000)\n",
    "\n",
    "# There is only one annotation_result since only\n",
    "# one video is processed.\n",
    "#annotation_results = result.annotation_results[0]\n",
    "#for speech_transcription in annotation_results.speech_transcriptions:\n",
    "    # The number of alternatives for each transcription is limited by\n",
    "    # SpeechTranscriptionConfig.max_alternatives.\n",
    "    # Each alternative is a different possible transcription\n",
    "    # and has its own confidence score.\n",
    "    #for alternative in speech_transcription.alternatives:\n",
    "        #print(\"Alternative level information:\")\n",
    "\n",
    "        #print(\"Transcript: {}\".format(alternative.transcript))\n",
    "        #print(\"Confidence: {}\\n\".format(alternative.confidence))\n",
    "\n",
    "        #print(\"Word level information:\")\n",
    "        #for word_info in alternative.words:\n",
    "            #word = word_info.word\n",
    "            #start_time = word_info.start_time\n",
    "            #end_time = word_info.end_time\n",
    "            #print(\n",
    "                #\"\\t{}s - {}s: {}\".format(\n",
    "                    #start_time.seconds + start_time.microseconds * 1e-6,\n",
    "                    #end_time.seconds + end_time.microseconds * 1e-6,\n",
    "                    #word,\n",
    "                #)\n",
    "            #)"
   ]
  },
  {
   "cell_type": "code",
   "execution_count": null,
   "id": "021b22d9-569c-486a-bf15-b2b3c57ac269",
   "metadata": {
    "tags": []
   },
   "outputs": [],
   "source": [
    "annotation_results = result.annotation_results[0]"
   ]
  },
  {
   "cell_type": "code",
   "execution_count": null,
   "id": "57f8c9d7-011b-4304-a3e1-bb4b4c2c8898",
   "metadata": {
    "tags": []
   },
   "outputs": [],
   "source": [
    "transcripts = []\n",
    "confidences = []\n",
    "\n",
    "for speech_transcription in annotation_results.speech_transcriptions:\n",
    "    # The number of alternatives for each transcription is limited by\n",
    "    # SpeechTranscriptionConfig.max_alternatives.\n",
    "    # Each alternative is a different possible transcription\n",
    "    # and has its own confidence score.\n",
    "    for alternative in speech_transcription.alternatives:\n",
    "       \n",
    "        if alternative.transcript != \"\":\n",
    "            transcripts.append(alternative.transcript)\n",
    "            confidences.append(alternative.confidence)\n",
    "    \n",
    "print(''.join(transcripts))"
   ]
  },
  {
   "cell_type": "code",
   "execution_count": null,
   "id": "7f406b52-d3f6-4284-804a-0d7808068746",
   "metadata": {},
   "outputs": [],
   "source": [
    "# without word level information\n",
    "\n",
    "for speech_transcription in annotation_results.speech_transcriptions:\n",
    "    # The number of alternatives for each transcription is limited by\n",
    "    # SpeechTranscriptionConfig.max_alternatives.\n",
    "    # Each alternative is a different possible transcription\n",
    "    # and has its own confidence score.\n",
    "    for alternative in speech_transcription.alternatives:\n",
    "        print(\"Alternative level information:\")\n",
    "\n",
    "        print(\"Transcript: {}\".format(alternative.transcript))\n",
    "        print(\"Confidence: {}\\n\".format(alternative.confidence))"
   ]
  },
  {
   "cell_type": "code",
   "execution_count": null,
   "id": "4efb7659-36bc-4f39-816d-4b3645c3b1f6",
   "metadata": {
    "tags": []
   },
   "outputs": [],
   "source": [
    "type(annotation_results)"
   ]
  },
  {
   "cell_type": "code",
   "execution_count": null,
   "id": "647f8eef-3fca-40e7-8fc9-8ad671512720",
   "metadata": {
    "tags": []
   },
   "outputs": [],
   "source": [
    "result_dict = MessageToDict(annotation_results.__class__.pb(annotation_results))\n",
    "#print(result_dict)"
   ]
  },
  {
   "cell_type": "code",
   "execution_count": null,
   "id": "b658d1ea-893e-4ad2-a5a5-8714c6bdbc13",
   "metadata": {
    "tags": []
   },
   "outputs": [],
   "source": [
    "type(result_dict)"
   ]
  },
  {
   "cell_type": "code",
   "execution_count": null,
   "id": "2a104260-1048-4bf9-a8f2-b221ca6e3463",
   "metadata": {
    "tags": []
   },
   "outputs": [],
   "source": [
    "gcs_destination_uri = \"gs://idl-dsos-transcript/json_files/\""
   ]
  },
  {
   "cell_type": "code",
   "execution_count": null,
   "id": "a2733e0c-eece-47e2-b23b-cb361f02bf5a",
   "metadata": {
    "tags": []
   },
   "outputs": [],
   "source": [
    "bucket_name = 'idl-dsos-transcript'\n",
    "storage_client = storage.Client()\n",
    "bucket = storage_client.bucket(bucket_name)\n",
    "blob = bucket.blob(\"json_files/sthh0257-0001.json\")\n",
    "blob.upload_from_string(json.dumps(result_dict))"
   ]
  },
  {
   "cell_type": "code",
   "execution_count": null,
   "id": "3a11be82-d7dd-4f9d-a94a-ba7216144269",
   "metadata": {},
   "outputs": [],
   "source": []
  }
 ],
 "metadata": {
  "environment": {
   "kernel": "python3",
   "name": "tf2-cpu.2-11.m113",
   "type": "gcloud",
   "uri": "gcr.io/deeplearning-platform-release/tf2-cpu.2-11:m113"
  },
  "kernelspec": {
   "display_name": "Python 3 (ipykernel)",
   "language": "python",
   "name": "python3"
  },
  "language_info": {
   "codemirror_mode": {
    "name": "ipython",
    "version": 3
   },
   "file_extension": ".py",
   "mimetype": "text/x-python",
   "name": "python",
   "nbconvert_exporter": "python",
   "pygments_lexer": "ipython3",
   "version": "3.9.7"
  }
 },
 "nbformat": 4,
 "nbformat_minor": 5
}
