{
 "cells": [
  {
   "cell_type": "code",
   "execution_count": 1,
   "id": "8c5161e0",
   "metadata": {},
   "outputs": [],
   "source": [
    "import pandas as pd"
   ]
  },
  {
   "cell_type": "code",
   "execution_count": 2,
   "id": "acf56c7a",
   "metadata": {},
   "outputs": [],
   "source": [
    "df = pd.read_csv('csv_files/transcript_annotations.csv')"
   ]
  },
  {
   "cell_type": "code",
   "execution_count": 8,
   "id": "84198c8c",
   "metadata": {},
   "outputs": [],
   "source": [
    "df['transcript'] = df['transcript'].replace('[^a-zA-Z0-9 ]', ' ', regex=True)\n",
    "df['text'] = df['text'].replace('[^a-zA-Z0-9 ]', ' ', regex=True)"
   ]
  },
  {
   "cell_type": "code",
   "execution_count": 9,
   "id": "0bcb7a4c",
   "metadata": {},
   "outputs": [],
   "source": [
    "df['text_content'] = df['transcript']"
   ]
  },
  {
   "cell_type": "code",
   "execution_count": 10,
   "id": "4c2992d8",
   "metadata": {},
   "outputs": [],
   "source": [
    "df.to_csv('csv_files/metadata-transcript-bq.csv', index=False)"
   ]
  },
  {
   "cell_type": "code",
   "execution_count": 12,
   "id": "1aec808e",
   "metadata": {},
   "outputs": [
    {
     "data": {
      "text/plain": [
       "'PM12 06 PM12 16 PM12 04  MAY  19 1998 PM12 10 AM11 59 MAY  19 1998  AM11 58 PM12 02 PM12 01 PM12 05 AMd152 PM12  5 PM1211 PM1210 PM12 18 AM11 52 PM12 10 MAY  19 1998  AMd1 52 PM12 11 AM 1 52 PM12 07 PM12 11 AM 1 52 AM11 54 AMI 57 MAY 18 1998 PM12 12 PM12 15 MAY  19 1998  PM12 16 A AMIN57 AMI 57 PM12 08 AM11 57 PM12 03 PM1216 PM12 17 PM12 05 MAY 19  1998  MAY  19  1998 PM12 09 PM12 12 AM1152 a  AMI1 52 PM 2 03 PM12 14 AM11 54 AM11 50 AMIN 57 PM12 14 PM1215 MAY 29 1998 MAYS 19  1998 PM12 15 PM1218 PM12 19 PM12 00 AM11 52 AM11 55 MAY  19 1998 PM12 18 PM 2 08 AM152 PM12 17 AMA 152 MAY 9 1998 AMIL 57 AM11352 MAY  19  1998 PM12 13 MAY  19 1998 AM11657 MAY  19 1998 PM12 41 PM12 13 PM12 06 25 AM11 53 36  PH 2 08 MAY 19 1998 PM12 07 PM122 14 PM12 00 AM11 51 AM11 56 PML2 08 MAY  19  1998 AM11 59'"
      ]
     },
     "execution_count": 12,
     "metadata": {},
     "output_type": "execute_result"
    }
   ],
   "source": [
    "df.iloc[0]['text']"
   ]
  },
  {
   "cell_type": "code",
   "execution_count": 13,
   "id": "985efd5c",
   "metadata": {},
   "outputs": [
    {
     "data": {
      "text/plain": [
       "99"
      ]
     },
     "execution_count": 13,
     "metadata": {},
     "output_type": "execute_result"
    }
   ],
   "source": [
    "len(df)"
   ]
  },
  {
   "cell_type": "code",
   "execution_count": 14,
   "id": "9ba75550",
   "metadata": {},
   "outputs": [
    {
     "data": {
      "text/plain": [
       "Index(['identifier', 'file_name', 'uri', 'transcript', 'confidence', 'text',\n",
       "       'label', 'logo', 'text_content'],\n",
       "      dtype='object')"
      ]
     },
     "execution_count": 14,
     "metadata": {},
     "output_type": "execute_result"
    }
   ],
   "source": [
    "df.columns"
   ]
  },
  {
   "cell_type": "code",
   "execution_count": 15,
   "id": "54b861ee",
   "metadata": {},
   "outputs": [],
   "source": [
    "# classify it in bigquery like so\n",
    "# https://cloud.google.com/bigquery/docs/reference/standard-sql/bigqueryml-syntax-understand-text#syntax\n",
    "#SELECT * FROM ML.UNDERSTAND_TEXT(\n",
    "# MODEL `Tobacco_Documents.understand_text`,\n",
    "# TABLE Tobacco_Documents.idl_depositions_100,\n",
    "# STRUCT('classify_text' AS nlu_option)\n",
    "#);\n"
   ]
  },
  {
   "cell_type": "code",
   "execution_count": 17,
   "id": "e105f139",
   "metadata": {},
   "outputs": [],
   "source": [
    "# then download it (I had to first export it to cloud storage because of the file size)"
   ]
  },
  {
   "cell_type": "code",
   "execution_count": null,
   "id": "5c1f700c",
   "metadata": {},
   "outputs": [],
   "source": []
  }
 ],
 "metadata": {
  "kernelspec": {
   "display_name": "Python 3 (ipykernel)",
   "language": "python",
   "name": "python3"
  },
  "language_info": {
   "codemirror_mode": {
    "name": "ipython",
    "version": 3
   },
   "file_extension": ".py",
   "mimetype": "text/x-python",
   "name": "python",
   "nbconvert_exporter": "python",
   "pygments_lexer": "ipython3",
   "version": "3.9.7"
  }
 },
 "nbformat": 4,
 "nbformat_minor": 5
}
