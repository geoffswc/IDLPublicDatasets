{
 "cells": [
  {
   "cell_type": "code",
   "execution_count": null,
   "id": "8c5161e0",
   "metadata": {},
   "outputs": [],
   "source": [
    "import pandas as pd"
   ]
  },
  {
   "cell_type": "code",
   "execution_count": null,
   "id": "acf56c7a",
   "metadata": {},
   "outputs": [],
   "source": [
    "df = pd.read_csv('bigquery-pandas-output_files/transcript_annotations.csv')"
   ]
  },
  {
   "cell_type": "code",
   "execution_count": null,
   "id": "84198c8c",
   "metadata": {},
   "outputs": [],
   "source": [
    "df['transcript'] = df['transcript'].replace('[^a-zA-Z0-9 ]', ' ', regex=True)\n",
    "df['text'] = df['text'].replace('[^a-zA-Z0-9 ]', ' ', regex=True)"
   ]
  },
  {
   "cell_type": "code",
   "execution_count": null,
   "id": "0bcb7a4c",
   "metadata": {},
   "outputs": [],
   "source": [
    "df['text_content'] = df['transcript']"
   ]
  },
  {
   "cell_type": "code",
   "execution_count": null,
   "id": "4c2992d8",
   "metadata": {},
   "outputs": [],
   "source": [
    "df.to_csv('bigquery-pandas-output_files/metadata-transcript-bq.csv', index=False)"
   ]
  },
  {
   "cell_type": "code",
   "execution_count": null,
   "id": "1aec808e",
   "metadata": {},
   "outputs": [],
   "source": [
    "df.iloc[0]['text']"
   ]
  },
  {
   "cell_type": "code",
   "execution_count": null,
   "id": "985efd5c",
   "metadata": {},
   "outputs": [],
   "source": [
    "len(df)"
   ]
  },
  {
   "cell_type": "code",
   "execution_count": null,
   "id": "9ba75550",
   "metadata": {},
   "outputs": [],
   "source": [
    "df.columns"
   ]
  },
  {
   "cell_type": "code",
   "execution_count": null,
   "id": "54b861ee",
   "metadata": {},
   "outputs": [],
   "source": [
    "# classify it in bigquery like so\n",
    "# https://cloud.google.com/bigquery/docs/reference/standard-sql/bigqueryml-syntax-understand-text#syntax\n",
    "#SELECT * FROM ML.UNDERSTAND_TEXT(\n",
    "# MODEL `Tobacco_Documents.understand_text`,\n",
    "# TABLE Tobacco_Documents.idl_depositions_100,\n",
    "# STRUCT('classify_text' AS nlu_option)\n",
    "#);\n"
   ]
  },
  {
   "cell_type": "code",
   "execution_count": null,
   "id": "e105f139",
   "metadata": {},
   "outputs": [],
   "source": [
    "# then download it (I had to first export it to cloud storage because of the file size)"
   ]
  },
  {
   "cell_type": "code",
   "execution_count": null,
   "id": "5c1f700c",
   "metadata": {},
   "outputs": [],
   "source": []
  }
 ],
 "metadata": {
  "kernelspec": {
   "display_name": "Python 3 (ipykernel)",
   "language": "python",
   "name": "python3"
  },
  "language_info": {
   "codemirror_mode": {
    "name": "ipython",
    "version": 3
   },
   "file_extension": ".py",
   "mimetype": "text/x-python",
   "name": "python",
   "nbconvert_exporter": "python",
   "pygments_lexer": "ipython3",
   "version": "3.9.7"
  }
 },
 "nbformat": 4,
 "nbformat_minor": 5
}
