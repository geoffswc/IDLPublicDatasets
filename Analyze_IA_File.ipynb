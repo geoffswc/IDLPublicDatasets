{
 "cells": [
  {
   "cell_type": "code",
   "execution_count": 1,
   "id": "e9c543ba",
   "metadata": {},
   "outputs": [],
   "source": [
    "import json\n",
    "import pandas as pd\n",
    "import glob\n",
    "import xmltodict, json\n",
    "from pandasql import sqldf"
   ]
  },
  {
   "cell_type": "code",
   "execution_count": 2,
   "id": "21b76050",
   "metadata": {},
   "outputs": [],
   "source": [
    "pysqldf = lambda q: sqldf(q, globals())"
   ]
  },
  {
   "cell_type": "code",
   "execution_count": 3,
   "id": "04a8b608",
   "metadata": {},
   "outputs": [],
   "source": [
    "with open('IADownloads/opioids_fzhh0257/opioids_fzhh0257_meta.xml') as f:\n",
    "    metadata_jsn = xmltodict.parse(f.read())"
   ]
  },
  {
   "cell_type": "code",
   "execution_count": 4,
   "id": "de16e098",
   "metadata": {},
   "outputs": [],
   "source": [
    "#jsn"
   ]
  },
  {
   "cell_type": "code",
   "execution_count": 5,
   "id": "24cf8535",
   "metadata": {},
   "outputs": [],
   "source": [
    "with open('IADownloads/opioids_fzhh0257/opioids_fzhh0257_files.xml') as f:\n",
    "    file_jsn = xmltodict.parse(f.read())"
   ]
  },
  {
   "cell_type": "code",
   "execution_count": 6,
   "id": "ec1b4c87",
   "metadata": {},
   "outputs": [],
   "source": [
    "#file_jsn['files']['file']"
   ]
  },
  {
   "cell_type": "code",
   "execution_count": 7,
   "id": "a441e59e",
   "metadata": {},
   "outputs": [],
   "source": [
    "df_files = pd.read_csv('csv_files/metadata_links.csv')"
   ]
  },
  {
   "cell_type": "code",
   "execution_count": 8,
   "id": "02a688d0",
   "metadata": {},
   "outputs": [
    {
     "data": {
      "text/plain": [
       "Index(['identifier', 'name', 'size', 'length', 'url', 'collection', 'title',\n",
       "       'mediatype', 'year', 'description', 'subject'],\n",
       "      dtype='object')"
      ]
     },
     "execution_count": 8,
     "metadata": {},
     "output_type": "execute_result"
    }
   ],
   "source": [
    "df_files.columns"
   ]
  },
  {
   "cell_type": "code",
   "execution_count": 9,
   "id": "4612488e",
   "metadata": {},
   "outputs": [],
   "source": [
    "df_first_100 = df_files.iloc[:99]"
   ]
  },
  {
   "cell_type": "code",
   "execution_count": 16,
   "id": "9c383838",
   "metadata": {},
   "outputs": [
    {
     "data": {
      "text/plain": [
       "identifier                                      opioids_yfxh0257\n",
       "name                                        yfxh0257-0002.ia.mp4\n",
       "size                                                   876775594\n",
       "length                                                   4404.11\n",
       "url            https://archive.org/download/opioids_yfxh0257/...\n",
       "collection                industry-archives,newsandpublicaffairs\n",
       "title                                                     movies\n",
       "mediatype      Deposition of James Jim Rausch, Customer Servi...\n",
       "year                                                        2018\n",
       "description    Deposition of James Rauch in RE: National Pres...\n",
       "subject        lawsuit, legal activity, litigation, opioids, ...\n",
       "Name: 4, dtype: object"
      ]
     },
     "execution_count": 16,
     "metadata": {},
     "output_type": "execute_result"
    }
   ],
   "source": [
    "df_first_100.iloc[4]"
   ]
  },
  {
   "cell_type": "code",
   "execution_count": null,
   "id": "96ac124d",
   "metadata": {},
   "outputs": [],
   "source": [
    "pysqldf(\"\"\"\n",
    "SELECT SUM(length)/60 FROM df_first_100\n",
    "\"\"\")"
   ]
  },
  {
   "cell_type": "code",
   "execution_count": null,
   "id": "d45893d5",
   "metadata": {},
   "outputs": [],
   "source": [
    "#LABEL_DETECTION ($0.10/min)\n",
    "#LOGO_RECOGNITION ($0.15/min)\n",
    "#TEXT_DETECTION ($0.15/min)\n",
    "#SPEECH_RECOGNITION ($0.048/min)"
   ]
  },
  {
   "cell_type": "code",
   "execution_count": null,
   "id": "335f2838",
   "metadata": {},
   "outputs": [],
   "source": [
    "total_minutes = 5282.0\n",
    "print(\"FIRST 100 Deposition Files\")\n",
    "print(\"TOTAL TIME (hrs): \", round(total_minutes/60,2))\n",
    "print(\"TOTAL COST: $\", round(total_minutes * .448, 2))\n",
    "print('LABEL_DETECTION ($0.10/min): $', round(total_minutes * .1, 2))\n",
    "print('LOGO_RECOGNITION ($0.15/min): $', round(total_minutes * .15, 2))\n",
    "print('TEXT_DETECTION ($0.15/min): $', round(total_minutes * .15, 2))\n",
    "print('SPEECH_RECOGNITION ($0.048/min): $', round(total_minutes * .048, 2))"
   ]
  },
  {
   "cell_type": "markdown",
   "id": "33532314",
   "metadata": {},
   "source": [
    "# "
   ]
  }
 ],
 "metadata": {
  "kernelspec": {
   "display_name": "Python 3 (ipykernel)",
   "language": "python",
   "name": "python3"
  },
  "language_info": {
   "codemirror_mode": {
    "name": "ipython",
    "version": 3
   },
   "file_extension": ".py",
   "mimetype": "text/x-python",
   "name": "python",
   "nbconvert_exporter": "python",
   "pygments_lexer": "ipython3",
   "version": "3.9.7"
  }
 },
 "nbformat": 4,
 "nbformat_minor": 5
}
