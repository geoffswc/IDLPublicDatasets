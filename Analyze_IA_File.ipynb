{
 "cells": [
  {
   "cell_type": "code",
   "execution_count": 1,
   "id": "e9c543ba",
   "metadata": {},
   "outputs": [],
   "source": [
    "import json\n",
    "import pandas as pd\n",
    "import glob\n",
    "import xmltodict, json\n",
    "from pandasql import sqldf"
   ]
  },
  {
   "cell_type": "code",
   "execution_count": 2,
   "id": "21b76050",
   "metadata": {},
   "outputs": [],
   "source": [
    "pysqldf = lambda q: sqldf(q, globals())"
   ]
  },
  {
   "cell_type": "code",
   "execution_count": 3,
   "id": "04a8b608",
   "metadata": {},
   "outputs": [],
   "source": [
    "with open('IADownloads/opioids_fzhh0257/opioids_fzhh0257_meta.xml') as f:\n",
    "    metadata_jsn = xmltodict.parse(f.read())"
   ]
  },
  {
   "cell_type": "code",
   "execution_count": 4,
   "id": "24cf8535",
   "metadata": {},
   "outputs": [],
   "source": [
    "with open('IADownloads/opioids_fzhh0257/opioids_fzhh0257_files.xml') as f:\n",
    "    file_jsn = xmltodict.parse(f.read())"
   ]
  },
  {
   "cell_type": "code",
   "execution_count": 5,
   "id": "a441e59e",
   "metadata": {},
   "outputs": [],
   "source": [
    "df_files = pd.read_csv('metadata_output_files/metadata_links.csv')"
   ]
  },
  {
   "cell_type": "code",
   "execution_count": 6,
   "id": "02a688d0",
   "metadata": {},
   "outputs": [
    {
     "data": {
      "text/plain": [
       "Index(['identifier', 'name', 'size', 'length', 'url', 'collection', 'title',\n",
       "       'mediatype', 'year', 'description', 'subject'],\n",
       "      dtype='object')"
      ]
     },
     "execution_count": 6,
     "metadata": {},
     "output_type": "execute_result"
    }
   ],
   "source": [
    "df_files.columns"
   ]
  },
  {
   "cell_type": "code",
   "execution_count": 7,
   "id": "4612488e",
   "metadata": {},
   "outputs": [],
   "source": [
    "df_first_100 = df_files.iloc[:99]"
   ]
  },
  {
   "cell_type": "code",
   "execution_count": 8,
   "id": "96ac124d",
   "metadata": {},
   "outputs": [
    {
     "data": {
      "text/html": [
       "<div>\n",
       "<style scoped>\n",
       "    .dataframe tbody tr th:only-of-type {\n",
       "        vertical-align: middle;\n",
       "    }\n",
       "\n",
       "    .dataframe tbody tr th {\n",
       "        vertical-align: top;\n",
       "    }\n",
       "\n",
       "    .dataframe thead th {\n",
       "        text-align: right;\n",
       "    }\n",
       "</style>\n",
       "<table border=\"1\" class=\"dataframe\">\n",
       "  <thead>\n",
       "    <tr style=\"text-align: right;\">\n",
       "      <th></th>\n",
       "      <th>SUM(length)/60</th>\n",
       "    </tr>\n",
       "  </thead>\n",
       "  <tbody>\n",
       "    <tr>\n",
       "      <th>0</th>\n",
       "      <td>5282.0</td>\n",
       "    </tr>\n",
       "  </tbody>\n",
       "</table>\n",
       "</div>"
      ],
      "text/plain": [
       "   SUM(length)/60\n",
       "0          5282.0"
      ]
     },
     "execution_count": 8,
     "metadata": {},
     "output_type": "execute_result"
    }
   ],
   "source": [
    "pysqldf(\"\"\"\n",
    "SELECT SUM(length)/60 FROM df_first_100\n",
    "\"\"\")"
   ]
  },
  {
   "cell_type": "code",
   "execution_count": 9,
   "id": "d45893d5",
   "metadata": {},
   "outputs": [],
   "source": [
    "#LABEL_DETECTION ($0.10/min)\n",
    "#LOGO_RECOGNITION ($0.15/min)\n",
    "#TEXT_DETECTION ($0.15/min)\n",
    "#SPEECH_RECOGNITION ($0.048/min)"
   ]
  },
  {
   "cell_type": "code",
   "execution_count": 10,
   "id": "335f2838",
   "metadata": {},
   "outputs": [
    {
     "name": "stdout",
     "output_type": "stream",
     "text": [
      "FIRST 100 Deposition Files\n",
      "TOTAL TIME (hrs):  88.03\n",
      "TOTAL COST: $ 2366.34\n",
      "LABEL_DETECTION ($0.10/min): $ 528.2\n",
      "LOGO_RECOGNITION ($0.15/min): $ 792.3\n",
      "TEXT_DETECTION ($0.15/min): $ 792.3\n",
      "SPEECH_RECOGNITION ($0.048/min): $ 253.54\n"
     ]
    }
   ],
   "source": [
    "total_minutes = 5282.0\n",
    "print(\"FIRST 100 Deposition Files\")\n",
    "print(\"TOTAL TIME (hrs): \", round(total_minutes/60,2))\n",
    "print(\"TOTAL COST: $\", round(total_minutes * .448, 2))\n",
    "print('LABEL_DETECTION ($0.10/min): $', round(total_minutes * .1, 2))\n",
    "print('LOGO_RECOGNITION ($0.15/min): $', round(total_minutes * .15, 2))\n",
    "print('TEXT_DETECTION ($0.15/min): $', round(total_minutes * .15, 2))\n",
    "print('SPEECH_RECOGNITION ($0.048/min): $', round(total_minutes * .048, 2))"
   ]
  },
  {
   "cell_type": "markdown",
   "id": "33532314",
   "metadata": {},
   "source": [
    "# "
   ]
  }
 ],
 "metadata": {
  "kernelspec": {
   "display_name": "Python 3 (ipykernel)",
   "language": "python",
   "name": "python3"
  },
  "language_info": {
   "codemirror_mode": {
    "name": "ipython",
    "version": 3
   },
   "file_extension": ".py",
   "mimetype": "text/x-python",
   "name": "python",
   "nbconvert_exporter": "python",
   "pygments_lexer": "ipython3",
   "version": "3.9.7"
  }
 },
 "nbformat": 4,
 "nbformat_minor": 5
}
