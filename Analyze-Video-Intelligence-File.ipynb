{
 "cells": [
  {
   "cell_type": "code",
   "execution_count": null,
   "id": "ddc6d52f",
   "metadata": {},
   "outputs": [],
   "source": [
    "import pandas as pd"
   ]
  },
  {
   "cell_type": "code",
   "execution_count": null,
   "id": "4f49c3f2",
   "metadata": {},
   "outputs": [],
   "source": [
    "df = pd.read_csv('bigquery-pandas-output_files/transcript_annotations.csv')"
   ]
  },
  {
   "cell_type": "code",
   "execution_count": null,
   "id": "5b5bf1db",
   "metadata": {},
   "outputs": [],
   "source": [
    "df.columns"
   ]
  },
  {
   "cell_type": "code",
   "execution_count": null,
   "id": "475f060f",
   "metadata": {},
   "outputs": [],
   "source": [
    "df.iloc[0]"
   ]
  },
  {
   "cell_type": "code",
   "execution_count": null,
   "id": "d983e8ac",
   "metadata": {},
   "outputs": [],
   "source": [
    "df.iloc[0]['uri']"
   ]
  },
  {
   "cell_type": "code",
   "execution_count": null,
   "id": "7c569bca",
   "metadata": {},
   "outputs": [],
   "source": [
    "print(df.iloc[0]['transcript'][:100])"
   ]
  },
  {
   "cell_type": "code",
   "execution_count": null,
   "id": "787d52d4",
   "metadata": {},
   "outputs": [],
   "source": [
    "df.iloc[0]['label']"
   ]
  },
  {
   "cell_type": "code",
   "execution_count": null,
   "id": "76ca6da3",
   "metadata": {},
   "outputs": [],
   "source": [
    "df.iloc[0]['uri']"
   ]
  },
  {
   "cell_type": "code",
   "execution_count": null,
   "id": "a3e3adf6",
   "metadata": {},
   "outputs": [],
   "source": [
    "df.iloc[2]['logo']"
   ]
  },
  {
   "cell_type": "code",
   "execution_count": null,
   "id": "6619d0c8",
   "metadata": {},
   "outputs": [],
   "source": [
    "df.iloc[0]['text'][:100]"
   ]
  },
  {
   "cell_type": "code",
   "execution_count": null,
   "id": "fcf3909e",
   "metadata": {},
   "outputs": [],
   "source": []
  }
 ],
 "metadata": {
  "kernelspec": {
   "display_name": "Python 3 (ipykernel)",
   "language": "python",
   "name": "python3"
  },
  "language_info": {
   "codemirror_mode": {
    "name": "ipython",
    "version": 3
   },
   "file_extension": ".py",
   "mimetype": "text/x-python",
   "name": "python",
   "nbconvert_exporter": "python",
   "pygments_lexer": "ipython3",
   "version": "3.9.7"
  }
 },
 "nbformat": 4,
 "nbformat_minor": 5
}
