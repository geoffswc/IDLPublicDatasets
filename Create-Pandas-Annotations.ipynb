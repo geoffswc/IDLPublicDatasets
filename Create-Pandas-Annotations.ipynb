{
 "cells": [
  {
   "cell_type": "code",
   "execution_count": null,
   "id": "1f6a9b2d",
   "metadata": {},
   "outputs": [],
   "source": [
    "import pandas as pd\n",
    "import glob\n",
    "import json\n",
    "import numpy as np\n",
    "from pandasql import sqldf"
   ]
  },
  {
   "cell_type": "code",
   "execution_count": null,
   "id": "284c068e",
   "metadata": {},
   "outputs": [],
   "source": [
    "pysqldf = lambda q: sqldf(q, globals())"
   ]
  },
  {
   "cell_type": "code",
   "execution_count": null,
   "id": "6bda12a5",
   "metadata": {},
   "outputs": [],
   "source": [
    "files = glob.glob('output-idl-json-files.archive.org/download/**/*.json', recursive=True)"
   ]
  },
  {
   "cell_type": "code",
   "execution_count": null,
   "id": "a59cf3c9",
   "metadata": {},
   "outputs": [],
   "source": [
    "#len(files)"
   ]
  },
  {
   "cell_type": "code",
   "execution_count": null,
   "id": "0c698ddf",
   "metadata": {},
   "outputs": [],
   "source": [
    "#files[0]"
   ]
  },
  {
   "cell_type": "code",
   "execution_count": null,
   "id": "f3791573",
   "metadata": {},
   "outputs": [],
   "source": [
    "#f = open(files[0])\n",
    "#data = json.load(f) "
   ]
  },
  {
   "cell_type": "code",
   "execution_count": null,
   "id": "ca16b424",
   "metadata": {},
   "outputs": [],
   "source": [
    "#data.keys()"
   ]
  },
  {
   "cell_type": "code",
   "execution_count": null,
   "id": "b594b92e",
   "metadata": {},
   "outputs": [],
   "source": [
    "#data['annotation_results'][0].keys()"
   ]
  },
  {
   "cell_type": "code",
   "execution_count": null,
   "id": "e4697123",
   "metadata": {},
   "outputs": [],
   "source": [
    "#data['annotation_results'][1].keys()"
   ]
  },
  {
   "cell_type": "code",
   "execution_count": null,
   "id": "fe58523f",
   "metadata": {},
   "outputs": [],
   "source": [
    "#data['annotation_results'][0]['input_uri']"
   ]
  },
  {
   "cell_type": "code",
   "execution_count": null,
   "id": "96ef1389",
   "metadata": {},
   "outputs": [],
   "source": [
    "#data['annotation_results'][0]['segment_label_annotations'][0]['entity']['description']"
   ]
  },
  {
   "cell_type": "code",
   "execution_count": null,
   "id": "45529718",
   "metadata": {},
   "outputs": [],
   "source": [
    "#data['annotation_results'][0]['shot_label_annotations'][0]['entity']['description']"
   ]
  },
  {
   "cell_type": "code",
   "execution_count": null,
   "id": "1938856a",
   "metadata": {},
   "outputs": [],
   "source": [
    "#data['annotation_results'][0]['text_annotations'][0]['text']"
   ]
  },
  {
   "cell_type": "code",
   "execution_count": null,
   "id": "e1ff8905",
   "metadata": {},
   "outputs": [],
   "source": [
    "#data['annotation_results'][1]['speech_transcriptions'][2]['alternatives'][0]['transcript']"
   ]
  },
  {
   "cell_type": "code",
   "execution_count": null,
   "id": "d8a6ed8f",
   "metadata": {},
   "outputs": [],
   "source": [
    "#data['annotation_results'][1]['speech_transcriptions'][2]['alternatives'][0]['confidence']"
   ]
  },
  {
   "cell_type": "code",
   "execution_count": null,
   "id": "618c4aee",
   "metadata": {},
   "outputs": [],
   "source": [
    "label_annotations = []\n",
    "text_annotations = []\n",
    "logo_annotations = []\n",
    "speech_annotations = []\n",
    "\n",
    "for file in files:\n",
    "    \n",
    "    f = open(file)\n",
    "    data = json.load(f) \n",
    "    \n",
    "    for i in range(len(data['annotation_results'])):\n",
    "    \n",
    "        ar = data['annotation_results'][i]\n",
    "\n",
    "        uri = ar['input_uri']\n",
    "\n",
    "        if 'shot_label_annotations' in ar:\n",
    "\n",
    "            slas = []\n",
    "            for sla in ar['shot_label_annotations']:\n",
    "                label = sla['entity']['description']\n",
    "                slas.append(label)\n",
    "\n",
    "            label_annotations.append((uri, ','.join(slas)))\n",
    "\n",
    "        if 'text_annotations' in ar:\n",
    "            tas = []\n",
    "            for ta in ar['text_annotations']:\n",
    "                text = ta['text']\n",
    "                tas.append(text)\n",
    "\n",
    "            text_annotations.append((uri, ' '.join(tas)))\n",
    "\n",
    "        if 'logo_recognition_annotations' in ar.keys():                         \n",
    "            lras = []\n",
    "            for lra in ar['logo_recognition_annotations']:                  \n",
    "                logo = lra['entity']['description']\n",
    "                lras.append(logo)\n",
    "\n",
    "            logo_annotations.append((uri, ','.join(lras)))\n",
    "\n",
    "\n",
    "        #['speech_transcriptions'][2]['alternatives'][0]['transcript']\n",
    "        if 'speech_transcriptions' in ar:\n",
    "\n",
    "            sts = []\n",
    "            scs = []\n",
    "\n",
    "            for st in ar['speech_transcriptions']:\n",
    "\n",
    "                alt_conf = st['alternatives'][0]\n",
    "\n",
    "                if 'transcript' in alt_conf:\n",
    "                    speech = alt_conf['transcript']\n",
    "                    speech_confidence = alt_conf['confidence']\n",
    "                    #print(speech_confidence)\n",
    "                    sts.append(speech)\n",
    "                    if speech_confidence == []:\n",
    "                        speech_confidence = 0\n",
    "                        \n",
    "                    scs.append(float(speech_confidence))\n",
    "\n",
    "            speech_annotations.append((uri, ''.join(sts), np.mean(scs)))\n",
    "        \n",
    "    #print(file)"
   ]
  },
  {
   "cell_type": "code",
   "execution_count": null,
   "id": "68c11a5a",
   "metadata": {},
   "outputs": [],
   "source": [
    "df_label_annotations = pd.DataFrame(label_annotations, columns=['uri', 'label'])\n",
    "df_text_annotations = pd.DataFrame(text_annotations, columns=['uri', 'text'])\n",
    "df_logo_annotations = pd.DataFrame(logo_annotations, columns=['uri', 'logo'])\n",
    "df_speech_annotations = pd.DataFrame(speech_annotations, columns=['uri', 'transcript', 'confidence'])"
   ]
  },
  {
   "cell_type": "code",
   "execution_count": null,
   "id": "b7d60d61",
   "metadata": {},
   "outputs": [],
   "source": [
    "df_annotations = pysqldf(\"\"\"\n",
    "SELECT \n",
    "    sa.uri,\n",
    "    sa.transcript,\n",
    "    sa.confidence,\n",
    "    ta.text,\n",
    "    la.label,\n",
    "    lga.logo\n",
    "FROM\n",
    "    df_speech_annotations sa\n",
    "LEFT JOIN\n",
    "    df_label_annotations la\n",
    "ON\n",
    "    sa.uri = la.uri\n",
    "LEFT JOIN\n",
    "    df_text_annotations ta\n",
    "ON\n",
    "    sa.uri = ta.uri\n",
    "LEFT JOIN\n",
    "    df_logo_annotations lga\n",
    "ON\n",
    "    sa.uri = lga.uri\n",
    "\"\"\")"
   ]
  },
  {
   "cell_type": "code",
   "execution_count": null,
   "id": "84d7848c",
   "metadata": {},
   "outputs": [],
   "source": [
    "df_annotations.insert(0, 'file_name', df_annotations['uri'].str.split('/').str[-1][:-4])"
   ]
  },
  {
   "cell_type": "code",
   "execution_count": null,
   "id": "a7e03d7d",
   "metadata": {},
   "outputs": [],
   "source": [
    "df_annotations.insert(0, 'identifier', df_annotations['uri'].str.split('/').str[-2])"
   ]
  },
  {
   "cell_type": "code",
   "execution_count": null,
   "id": "303aba18",
   "metadata": {},
   "outputs": [],
   "source": [
    "df_annotations.head(2)"
   ]
  },
  {
   "cell_type": "code",
   "execution_count": null,
   "id": "a9278faf",
   "metadata": {},
   "outputs": [],
   "source": [
    "df_annotations.to_csv('csv_files/transcript_annotations.csv', index=False)"
   ]
  },
  {
   "cell_type": "code",
   "execution_count": null,
   "id": "82071f3d",
   "metadata": {},
   "outputs": [],
   "source": []
  }
 ],
 "metadata": {
  "kernelspec": {
   "display_name": "Python 3 (ipykernel)",
   "language": "python",
   "name": "python3"
  },
  "language_info": {
   "codemirror_mode": {
    "name": "ipython",
    "version": 3
   },
   "file_extension": ".py",
   "mimetype": "text/x-python",
   "name": "python",
   "nbconvert_exporter": "python",
   "pygments_lexer": "ipython3",
   "version": "3.9.7"
  }
 },
 "nbformat": 4,
 "nbformat_minor": 5
}
