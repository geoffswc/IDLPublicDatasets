{
 "cells": [
  {
   "cell_type": "code",
   "execution_count": 1,
   "id": "c0e09b7e",
   "metadata": {},
   "outputs": [],
   "source": [
    "# this workboook illustrates how to extract data from the JSON file returned by videointelligence\n",
    "# the example transcript was generated from the industry archives file:\n",
    "# YOUTH SMOKING PREVENTION 7 SPOTS\n",
    "# https://archive.org/details/tobacco_wbr62a00"
   ]
  },
  {
   "cell_type": "code",
   "execution_count": 2,
   "id": "1f6a9b2d",
   "metadata": {},
   "outputs": [],
   "source": [
    "import pandas as pd\n",
    "import glob\n",
    "import json\n",
    "import numpy as np\n",
    "from pandasql import sqldf"
   ]
  },
  {
   "cell_type": "code",
   "execution_count": 3,
   "id": "284c068e",
   "metadata": {},
   "outputs": [],
   "source": [
    "pysqldf = lambda q: sqldf(q, globals())"
   ]
  },
  {
   "cell_type": "code",
   "execution_count": 4,
   "id": "6bda12a5",
   "metadata": {},
   "outputs": [],
   "source": [
    "files = glob.glob('sample_json/*.json', recursive=True)"
   ]
  },
  {
   "cell_type": "code",
   "execution_count": 5,
   "id": "a59cf3c9",
   "metadata": {},
   "outputs": [],
   "source": [
    "#len(files)"
   ]
  },
  {
   "cell_type": "code",
   "execution_count": 6,
   "id": "0c698ddf",
   "metadata": {},
   "outputs": [],
   "source": [
    "#files[0]"
   ]
  },
  {
   "cell_type": "code",
   "execution_count": 7,
   "id": "f3791573",
   "metadata": {},
   "outputs": [],
   "source": [
    "#f = open(files[0])\n",
    "#data = json.load(f) "
   ]
  },
  {
   "cell_type": "code",
   "execution_count": 8,
   "id": "ca16b424",
   "metadata": {},
   "outputs": [],
   "source": [
    "#data.keys()"
   ]
  },
  {
   "cell_type": "code",
   "execution_count": 9,
   "id": "b594b92e",
   "metadata": {},
   "outputs": [],
   "source": [
    "#data['annotation_results'][0].keys()"
   ]
  },
  {
   "cell_type": "code",
   "execution_count": 10,
   "id": "e4697123",
   "metadata": {},
   "outputs": [],
   "source": [
    "#data['annotation_results'][1].keys()"
   ]
  },
  {
   "cell_type": "code",
   "execution_count": 11,
   "id": "fe58523f",
   "metadata": {},
   "outputs": [],
   "source": [
    "#data['annotation_results'][0]['input_uri']"
   ]
  },
  {
   "cell_type": "code",
   "execution_count": 12,
   "id": "96ef1389",
   "metadata": {},
   "outputs": [],
   "source": [
    "#data['annotation_results'][0]['segment_label_annotations'][0]['entity']['description']"
   ]
  },
  {
   "cell_type": "code",
   "execution_count": 13,
   "id": "45529718",
   "metadata": {},
   "outputs": [],
   "source": [
    "#data['annotation_results'][0]['shot_label_annotations'][0]['entity']['description']"
   ]
  },
  {
   "cell_type": "code",
   "execution_count": 14,
   "id": "1938856a",
   "metadata": {},
   "outputs": [],
   "source": [
    "#data['annotation_results'][0]['text_annotations'][0]['text']"
   ]
  },
  {
   "cell_type": "code",
   "execution_count": 15,
   "id": "e1ff8905",
   "metadata": {},
   "outputs": [],
   "source": [
    "#data['annotation_results'][1]['speech_transcriptions'][2]['alternatives'][0]['transcript']"
   ]
  },
  {
   "cell_type": "code",
   "execution_count": 16,
   "id": "d8a6ed8f",
   "metadata": {},
   "outputs": [],
   "source": [
    "#data['annotation_results'][1]['speech_transcriptions'][2]['alternatives'][0]['confidence']"
   ]
  },
  {
   "cell_type": "code",
   "execution_count": 17,
   "id": "618c4aee",
   "metadata": {},
   "outputs": [],
   "source": [
    "label_annotations = []\n",
    "text_annotations = []\n",
    "logo_annotations = []\n",
    "speech_annotations = []\n",
    "\n",
    "for file in files:\n",
    "    \n",
    "    f = open(file)\n",
    "    data = json.load(f) \n",
    "    \n",
    "    for i in range(len(data['annotation_results'])):\n",
    "    \n",
    "        ar = data['annotation_results'][i]\n",
    "\n",
    "        uri = ar['input_uri']\n",
    "\n",
    "        if 'shot_label_annotations' in ar:\n",
    "\n",
    "            slas = []\n",
    "            for sla in ar['shot_label_annotations']:\n",
    "                label = sla['entity']['description']\n",
    "                slas.append(label)\n",
    "\n",
    "            label_annotations.append((uri, ','.join(slas)))\n",
    "\n",
    "        if 'text_annotations' in ar:\n",
    "            tas = []\n",
    "            for ta in ar['text_annotations']:\n",
    "                text = ta['text']\n",
    "                tas.append(text)\n",
    "\n",
    "            text_annotations.append((uri, ' '.join(tas)))\n",
    "\n",
    "        if 'logo_recognition_annotations' in ar.keys():                         \n",
    "            lras = []\n",
    "            for lra in ar['logo_recognition_annotations']:                  \n",
    "                logo = lra['entity']['description']\n",
    "                lras.append(logo)\n",
    "\n",
    "            logo_annotations.append((uri, ','.join(lras)))\n",
    "\n",
    "\n",
    "        #['speech_transcriptions'][2]['alternatives'][0]['transcript']\n",
    "        if 'speech_transcriptions' in ar:\n",
    "\n",
    "            sts = []\n",
    "            scs = []\n",
    "\n",
    "            for st in ar['speech_transcriptions']:\n",
    "\n",
    "                alt_conf = st['alternatives'][0]\n",
    "\n",
    "                if 'transcript' in alt_conf:\n",
    "                    speech = alt_conf['transcript']\n",
    "                    speech_confidence = alt_conf['confidence']\n",
    "                    #print(speech_confidence)\n",
    "                    sts.append(speech)\n",
    "                    if speech_confidence == []:\n",
    "                        speech_confidence = 0\n",
    "                        \n",
    "                    scs.append(float(speech_confidence))\n",
    "\n",
    "            speech_annotations.append((uri, ''.join(sts), np.mean(scs)))\n",
    "        \n",
    "    #print(file)"
   ]
  },
  {
   "cell_type": "code",
   "execution_count": 18,
   "id": "68c11a5a",
   "metadata": {},
   "outputs": [],
   "source": [
    "df_label_annotations = pd.DataFrame(label_annotations, columns=['uri', 'label'])\n",
    "df_text_annotations = pd.DataFrame(text_annotations, columns=['uri', 'text'])\n",
    "df_logo_annotations = pd.DataFrame(logo_annotations, columns=['uri', 'logo'])\n",
    "df_speech_annotations = pd.DataFrame(speech_annotations, columns=['uri', 'transcript', 'confidence'])"
   ]
  },
  {
   "cell_type": "code",
   "execution_count": 19,
   "id": "b7d60d61",
   "metadata": {},
   "outputs": [],
   "source": [
    "df_annotations = pysqldf(\"\"\"\n",
    "SELECT \n",
    "    sa.uri,\n",
    "    sa.transcript,\n",
    "    sa.confidence,\n",
    "    ta.text,\n",
    "    la.label,\n",
    "    lga.logo\n",
    "FROM\n",
    "    df_speech_annotations sa\n",
    "LEFT JOIN\n",
    "    df_label_annotations la\n",
    "ON\n",
    "    sa.uri = la.uri\n",
    "LEFT JOIN\n",
    "    df_text_annotations ta\n",
    "ON\n",
    "    sa.uri = ta.uri\n",
    "LEFT JOIN\n",
    "    df_logo_annotations lga\n",
    "ON\n",
    "    sa.uri = lga.uri\n",
    "\"\"\")"
   ]
  },
  {
   "cell_type": "code",
   "execution_count": 20,
   "id": "84d7848c",
   "metadata": {},
   "outputs": [],
   "source": [
    "df_annotations.insert(0, 'file_name', df_annotations['uri'].str.split('/').str[-1][:-4])"
   ]
  },
  {
   "cell_type": "code",
   "execution_count": 21,
   "id": "a7e03d7d",
   "metadata": {},
   "outputs": [],
   "source": [
    "df_annotations.insert(0, 'identifier', df_annotations['uri'].str.split('/').str[-2])"
   ]
  },
  {
   "cell_type": "code",
   "execution_count": 22,
   "id": "303aba18",
   "metadata": {},
   "outputs": [
    {
     "data": {
      "text/html": [
       "<div>\n",
       "<style scoped>\n",
       "    .dataframe tbody tr th:only-of-type {\n",
       "        vertical-align: middle;\n",
       "    }\n",
       "\n",
       "    .dataframe tbody tr th {\n",
       "        vertical-align: top;\n",
       "    }\n",
       "\n",
       "    .dataframe thead th {\n",
       "        text-align: right;\n",
       "    }\n",
       "</style>\n",
       "<table border=\"1\" class=\"dataframe\">\n",
       "  <thead>\n",
       "    <tr style=\"text-align: right;\">\n",
       "      <th></th>\n",
       "      <th>identifier</th>\n",
       "      <th>file_name</th>\n",
       "      <th>uri</th>\n",
       "      <th>transcript</th>\n",
       "      <th>confidence</th>\n",
       "      <th>text</th>\n",
       "      <th>label</th>\n",
       "      <th>logo</th>\n",
       "    </tr>\n",
       "  </thead>\n",
       "  <tbody>\n",
       "    <tr>\n",
       "      <th>0</th>\n",
       "      <td>input-idl-video-files</td>\n",
       "      <td>NaN</td>\n",
       "      <td>/input-idl-video-files/tobacco_demo.mp4</td>\n",
       "      <td>I think smoking makes you look cool. No way. W...</td>\n",
       "      <td>0.825757</td>\n",
       "      <td>P MErtis USA SUOLON GENERAL'S WARNING: Smoking...</td>\n",
       "      <td>black hair,finger,motor vehicle,sports,car,can...</td>\n",
       "      <td>Think Mutual Bank,Isuzu Philippines,New York J...</td>\n",
       "    </tr>\n",
       "  </tbody>\n",
       "</table>\n",
       "</div>"
      ],
      "text/plain": [
       "              identifier file_name                                      uri  \\\n",
       "0  input-idl-video-files       NaN  /input-idl-video-files/tobacco_demo.mp4   \n",
       "\n",
       "                                          transcript  confidence  \\\n",
       "0  I think smoking makes you look cool. No way. W...    0.825757   \n",
       "\n",
       "                                                text  \\\n",
       "0  P MErtis USA SUOLON GENERAL'S WARNING: Smoking...   \n",
       "\n",
       "                                               label  \\\n",
       "0  black hair,finger,motor vehicle,sports,car,can...   \n",
       "\n",
       "                                                logo  \n",
       "0  Think Mutual Bank,Isuzu Philippines,New York J...  "
      ]
     },
     "execution_count": 22,
     "metadata": {},
     "output_type": "execute_result"
    }
   ],
   "source": [
    "df_annotations"
   ]
  },
  {
   "cell_type": "code",
   "execution_count": 23,
   "id": "db238944",
   "metadata": {},
   "outputs": [],
   "source": [
    "df_annotations['text_content'] = df_annotations['transcript']"
   ]
  },
  {
   "cell_type": "code",
   "execution_count": 24,
   "id": "a9278faf",
   "metadata": {},
   "outputs": [],
   "source": [
    "df_annotations.to_csv('sample_json/sample_json.csv', index=False)"
   ]
  },
  {
   "cell_type": "code",
   "execution_count": 26,
   "id": "82071f3d",
   "metadata": {},
   "outputs": [
    {
     "data": {
      "text/plain": [
       "\"I think smoking makes you look cool. No way. What are you looking at?Hey Kristi. Thanks smoking makes you look cool. Hey.People think that kids are like jumping now always telling us what to do or not to do, but we know what's going on. We listened like smoking. We all know the reasons not to butt out here comes up. That's when we make the real decision for us. It's not cool to smoke. That's not even the hardest decision I've ever made. So how about a little credit for a change?My parents they always think I'm not listening. I hear him. Wait a minute, you know every day you have to deal with stuff on your own. So you want to know why I've decided not to smoke which reason would you like? I don't think the smoke the prove myself. My coolness is not on trial here. I don't smoke because sometimes it's what you don't do that makes you who you are.These are the kids that I hang out with and they're all in different ways a lot of like to because you know, we all deal with the same stuff same decision like smoking forget it we all came up with the same answer not for us. We don't have to smoke to be different being ourselves enough.Hey guys. May I ask you a couple questions? Have you ever tried cigarettes? Oh, no, he's never wanted to know really. Yeah, I mean some of my friends started whatever somebody have a pack at the school, you know their smoking or whatever and you think they try to because other people were doing it. Yeah. Yeah, but that's dumb no seams and tell me the reason that is not they're not don't but that's a stupid reason to do anything after you. Take it easy. Hey you. Okay. Yeah, did you ever try cigarettes? I was 14 any reason because I was trying to be cool or something. Really. Well, yeah, so you tried it because other people are doing it. Yeah, I guess and why don't you do it anymore? A lot of reasons just didn't like it. You know, I don't need to smoke like fit in hold up. We finished.\""
      ]
     },
     "execution_count": 26,
     "metadata": {},
     "output_type": "execute_result"
    }
   ],
   "source": [
    "df_annotations['transcript'][0]"
   ]
  },
  {
   "cell_type": "code",
   "execution_count": 27,
   "id": "9603b8ab",
   "metadata": {},
   "outputs": [
    {
     "data": {
      "text/plain": [
       "0.825757140909091"
      ]
     },
     "execution_count": 27,
     "metadata": {},
     "output_type": "execute_result"
    }
   ],
   "source": [
    "df_annotations['confidence'][0]"
   ]
  },
  {
   "cell_type": "code",
   "execution_count": 32,
   "id": "314e02c7",
   "metadata": {},
   "outputs": [
    {
     "name": "stdout",
     "output_type": "stream",
     "text": [
      "P MErtis USA SUOLON GENERAL'S WARNING: Smoking Causes Lung Canter, He Diseose, And Emphysem. \"Lung Cancer, Heart Diseose, And Emphysemo. orris USA Lung Concer, Heaot Diseose, Apd Emphysemo. Lng Concer, He aseose, A Emphysemo. 11 SUN OM GENERAL'S WA ING: Smoking ouses Philip Morris USA . P p Morris USA SH SUOTON GENERAL'S WANING: Smoking (ouses Lung Cander, Heart Diseose, And Emphysemos Lung Cancer, Heart Diseose, And Emphysemad Lung Concen, Heart Disease, And Emphysemo. ANNUAL FILM Lung Cancer, Heart Diseose, And Eha hysema. CASHED ng Concer, Heaon Deose, And Emphysemo. SURGEON GENERAL'S WARNING: Smokg Ces Lung Cancer, Heart Diseose, And Enip hyseem Mris USA SURGON GENERAL'S WARNING: Smoking Couses Lung Cancer, Heart Disease, And Empiysemo Lung Cancer, Heart Diseose. And Emphysemo. SURGEON GENERAL'S WARNING: Smolkg Caras LD \"CHEOX SURSLON GENERAL'S WARNING: Smoking Couses SURGEON GENERAL \"ARNIN S noking os Lung Concer Hearn Disepse, Au mphysemo. SURG GENERAL'S WARNING: Smoking Couses FESTIVAL - P Morris USA Lung Concer, Heart Disease, And Emphysemo. Lung Conceort Diseose And Emphysemo. ECK SURGEON GENERAL'S WARNING: Smokg Caus s Think. Don't smoke. SUR EON GENERAL'S WARNING: Smoking Couses N Lung Cancer, Heott Diseose, And Emphysemo. Nung Cancer, Heart Deose, And Emphysemo. 7 D Hung Concer, Heardisease Ald Emphyse Lung Concer, Heaut Diseose, And Emphysemo. S Prish Morris USA Ng Cancer, Heart Deose, And Emphysemo. Lung Cancer, Heord Diseose, And Emphysemos Lung Cancer, Heart Diseose, And Emphysemos Tung Cancer, Heart Diseose And EmphySTse Lung Canter, Heart Diseose, And Emphyset Lung Concer. Heart Diseose, And Emphysemo. SURGEON GENERAL WARNINmoking COous Nig Cancer, Heont Deose, And Emphysemo. PT Morris USA stung Concer, Heon Diseose, Aud Emphysemo. Lung Concer, Heart Diseose, And Emphysemo Ph Morris USA Phip Morris USA SURGEON GENERAL WARNING moking Couses Lung Concer, Hanit Diseose, AnaImphysemo. Lung Cancer, Heont Diseose, And Enhysensg SURG, JN GENERAL'S WARNING: Smoking Couses SURGEON GENERAL'S WARNING: Smoking Cortes Lung Cancer, Heart Disease, And Emphysemo. Lung Cancer, Heart Diseose, And Emphysendo Log Concer, Heart Diseose, And Emphysemo. PMorris USA Lung Cancer, Heart Diseose, And Emphysemb Ph: Morris USA p s USA PAMorris USA Lung Concer, Hean Diseose, Andfighysemo. SURG ON GENERAL'S WARNING: Smoking (ouses fAong Concer, Heorr Diseose, Aud Emphysemo. Lung Concer Heart Disease, And Ermphysemo. SURGEON GENERAL SWARNIM moking Couse SURGEON GENERAL WARNING moking Couses, PhpMorris USA Hung Concer, Heart Diseose, Auld Emphysemo. SUND EON GENERAL'SS WARNING: Smoking Causes Phiip Morris USA oon Concer, Heart Deose, And Emphysemo. SURGEON GENERAL'S WARNING: Smoking Couses SURGEON GENERAL'S WARNING: Smoking Couses! SURGEON GENERAL WARNINS Soting Coores Lung Cancer, Hear seose, And L ysemo. SURGEON GENERAL'S WARNING: Smokt Coues Lung Concer, Heaon Diseose, And Emphysemo. slung Cancer, Heart Diseose, And Emphysemo. wwww tung Cancer, Heart Disease, And Emphysemo Aung Concer, Heon Disease, And Emphysemo. Lung Cancer deort Disease, And Emphysemo. Lung Loncer, Heant Disose, And Emphysem. Pa Morris USA Lung Concer, Heart Diseose And Emphysemo. Lung Conter, Heon Disease, And Emphysemo Pip Morris USA PhirA Morris USA Lung Cancer, Heart Diseose, And Emphysemo lung Cancer, Heart Diseose, And Emphysemo. Loag Concer, Heart Dieose, And Emphsemo . fip Morris USA SURGEON GENERAL'S WARNING. Soking Causes SURGEON GENERAL'S WARNING SA king Couses Lung Cancer, Heart Diseose, And Fmphysemo. SURGEON GENERAL'S WARNING: Smoking Courses slung Cancer, Heart Diseose, And Emph semo. SURGEON GENERAL'S WARNING: Smoktig Caros Lung Cancerz Heart Diseose, And Emphysemo) Lung Cancer, Heont Diseose, And Eupysema. Lung Concer, Hered seose, And Emphysemo. Lung Cancer, Heort Diseose, And Enefysem Lung Concer, Heont Disease, And Emphysemo. SURGEON GENERAL'S WARNING: Smoktng ( Ces P ip Morris USA Lung Concer Heort Diseose, And Emphysemo. Lung Concen Heart Disease, And Emphysemo. SURGEON GENERAL'S WARNING: Smokig Couses SURG ON GENERAL'S WARNING: SmO Ning Couses Lung Cancer, Heort Diseose, And Empaysemit Lung Concer, Heont Diseose, And Emphysemo. Lung Cancer, Heont Diseose, And Eop ysema Long Concer, Hearl Dissose, And Emphysemo. SUNDEON GENERAL'S WARNING: Smoking Couses Lung Cancer, Heart Diseose, And Emphysena Lung Concer, Heort Diseose, And Emphysedn Morris USA Pp Morris USA Lung Concer, Hearl Diose , And Emphysem. Lung Concer, Healt Diseose, And Emphysemo. Lung Cancer, Heart Disease, And Emphysemo, SURGEON GENERAL'S WARNING: Smoking Caus Lung Concer deort Disease, And Emphysemo. Php Morris USA SURGEON GENERAL'S WARNING: Smok. g Caras No Concer, Healt Deose, And Emphysemo. Lung Concerieort Disease, And Emphysemo. Lung Cance eont Diseose And Emphysemo. SURGEON GENERAL'S WARNING: Smot ng Ces Lung Cancer, Heart Diseose, And Emphysem. Phillip Morris USA Pahi Morris USA CHECKS PS PE Morris USA SURGEON GENERAL'S WARNING: Smosk Cosss Lung Cancer, Heart Diseose, And Empiysemd Pep Morris USA ASTO Lung Concer, Heprt Diseose And Emphyseme Think. k TXT \"Lung Cancer, Heart Disebse, And Emphysemo. . P Morris USA $EON GENERAL'S WARNING Smoking Couses SURGEON GENERAL'S WARNING: Smoking (Ces 7 DAYS Aung Concer, Heart Dises Emphysemoe SURGEON GENERAL'S WARNING: Smokti COaus SURGEON GENERAL'S WARNING: Smoking Cles SURGEON GENERAL WARNIG moking Causes Philp Morris USA Prilp Morris USA SURGEON GENERALS WARNIG moking Couses CHEC Lung Cancer, Heort Diseose, And Emp ysemo) SURG ON GENERAL'S WARNING: Smoking Couses Loag Concer, Heart Dieose, And Emphysemo. Think Youth Smoking Prevention 7 SURGEON GENERAL'S WARNING: Smoking ( .es SVRUEON GENERAL'S WARNING: Smoking Couses Lung Cancer, Heart Dyiose, And Emphysemo. Lung Cancer Heart Diseose, And Emphysemo. Lung Ca Diseose, Ad Emphysemo Lung anter, Heart Disse , And Emph semo. PAT Morris USA SURGEON GENERAL'S WARNING: Smoking Ces Lung Capter, Hebrt Diseose, And Emphysemo Lung Concer, Heort Diseose, And Emphysemo. Lung Cancer, Heort Diseose, And Emphysemo. SURGEON GENERAL'S WARNING: Smoking (C.es Lung Concer, Heort Diseose, And Emplysemo, SURGEON GENERAL'S WARNING: Smoking Causes Lung Concer, Heart Di ose, And Emphsemo . CHE SURGEON GENERAL'S WARNING: Smaliog Causes Lung Cancer, Heort Diseose, And Emphysema. SURGEON GENERAL'S WARNING: SmokinCausas Lung Cancer, Heort Diseose, And Emphysemo Lung Concer, Heort Disease, And Emphysemo. FES SURGEON GENERAL'S WARNING: Smoking CGoses Lung Cancer, Heart Diseose, And Enahysema. Lung Cancer, Heart Diseose, And Emphysemo. Lung Cancer, Heart Diseose, Ar d Emphysemo. SURGEON GENERAL'S WARNING: SmoktiCOUous Loag Concer, Heall Deose, And Emphysemo. Yong Concer, Heont Deose, And Emphysemo . Lung Cancer, Heort Diseose, And Emphysem. 24 P Morris USA SURGEON GENERAL'S WARNING Smoking Causes SULULON GENERAL'S WARNING: Smoking Couses Lung Cancer, Heart Diseose, And Emplíysemd Phir Merris USA Lung Cancer, Heart Diseose, And Eamphysemo. Lung Concer, Heart Diseose, And Emphysemo. Lung Conter, Heart Diseose, And Emphysemb. SURGEON GENERAL'S WARNING. Su óking Couses Lung Coa ot Diseose And Emphysemo Long Concer, Heort Deose, And Emphysemo. Lung Concer, Heart Diseose, And Emahysena. Lung Cancer, Healt Diseose And Emphysemo. SURGEON GENERAL'S WARNING: Smok g COoes Lung Concer, Heau Diseose, And Emphysemo. Lung Concer, Heoll Diseose, And Emphysemo. Lung Concer, Heall Biseose, And thysemo. NO SURGEON GENERAL'S WARNING: Smoking COoses Lung Cancer, Heont Deose, And Emphysemo.\n"
     ]
    }
   ],
   "source": [
    "print(df_annotations['text'][0])"
   ]
  },
  {
   "cell_type": "code",
   "execution_count": 34,
   "id": "985e10bf",
   "metadata": {},
   "outputs": [
    {
     "data": {
      "text/plain": [
       "'black hair,finger,motor vehicle,sports,car,cannon,forehead,people,film noir,mouth,nose,head,chin,lip,human,interaction,eyebrow,barefoot,television program,soldier,smoking,tree,conversation,street,black and white,black,text,hair,emotion,song,pedestrian,television advertisement,smile,monochrome,monochrome photography,hand,leg,display device,facial expression,neck,foot,military,ear,extreme sport,happiness,nail,public space,eye,cheek,animal,vehicle'"
      ]
     },
     "execution_count": 34,
     "metadata": {},
     "output_type": "execute_result"
    }
   ],
   "source": [
    "df_annotations['label'][0]"
   ]
  },
  {
   "cell_type": "code",
   "execution_count": 35,
   "id": "bc53da36",
   "metadata": {},
   "outputs": [
    {
     "data": {
      "text/plain": [
       "'Think Mutual Bank,Isuzu Philippines,New York Jets,New York Giants'"
      ]
     },
     "execution_count": 35,
     "metadata": {},
     "output_type": "execute_result"
    }
   ],
   "source": [
    "df_annotations['logo'][0]"
   ]
  },
  {
   "cell_type": "code",
   "execution_count": null,
   "id": "c4c2a5c0",
   "metadata": {},
   "outputs": [],
   "source": []
  }
 ],
 "metadata": {
  "kernelspec": {
   "display_name": "Python 3 (ipykernel)",
   "language": "python",
   "name": "python3"
  },
  "language_info": {
   "codemirror_mode": {
    "name": "ipython",
    "version": 3
   },
   "file_extension": ".py",
   "mimetype": "text/x-python",
   "name": "python",
   "nbconvert_exporter": "python",
   "pygments_lexer": "ipython3",
   "version": "3.10.9"
  }
 },
 "nbformat": 4,
 "nbformat_minor": 5
}
