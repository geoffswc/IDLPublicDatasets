{
 "cells": [
  {
   "cell_type": "code",
   "execution_count": null,
   "id": "c0e09b7e",
   "metadata": {},
   "outputs": [],
   "source": [
    "# this workboook illustrates how to extract data from the JSON file returned by videointelligence\n",
    "# the example transcript was generated from the industry archives file:\n",
    "# YOUTH SMOKING PREVENTION 7 SPOTS\n",
    "# https://archive.org/details/tobacco_wbr62a00"
   ]
  },
  {
   "cell_type": "code",
   "execution_count": 3,
   "id": "1f6a9b2d",
   "metadata": {},
   "outputs": [],
   "source": [
    "import pandas as pd\n",
    "import glob\n",
    "import json\n",
    "import numpy as np\n",
    "from pandasql import sqldf"
   ]
  },
  {
   "cell_type": "code",
   "execution_count": 4,
   "id": "284c068e",
   "metadata": {},
   "outputs": [],
   "source": [
    "pysqldf = lambda q: sqldf(q, globals())"
   ]
  },
  {
   "cell_type": "code",
   "execution_count": 5,
   "id": "6bda12a5",
   "metadata": {},
   "outputs": [],
   "source": [
    "files = glob.glob('sample_json/*.json', recursive=True)"
   ]
  },
  {
   "cell_type": "code",
   "execution_count": null,
   "id": "a59cf3c9",
   "metadata": {},
   "outputs": [],
   "source": [
    "#len(files)"
   ]
  },
  {
   "cell_type": "code",
   "execution_count": null,
   "id": "0c698ddf",
   "metadata": {},
   "outputs": [],
   "source": [
    "#files[0]"
   ]
  },
  {
   "cell_type": "code",
   "execution_count": null,
   "id": "f3791573",
   "metadata": {},
   "outputs": [],
   "source": [
    "#f = open(files[0])\n",
    "#data = json.load(f) "
   ]
  },
  {
   "cell_type": "code",
   "execution_count": null,
   "id": "ca16b424",
   "metadata": {},
   "outputs": [],
   "source": [
    "#data.keys()"
   ]
  },
  {
   "cell_type": "code",
   "execution_count": null,
   "id": "b594b92e",
   "metadata": {},
   "outputs": [],
   "source": [
    "#data['annotation_results'][0].keys()"
   ]
  },
  {
   "cell_type": "code",
   "execution_count": null,
   "id": "e4697123",
   "metadata": {},
   "outputs": [],
   "source": [
    "#data['annotation_results'][1].keys()"
   ]
  },
  {
   "cell_type": "code",
   "execution_count": null,
   "id": "fe58523f",
   "metadata": {},
   "outputs": [],
   "source": [
    "#data['annotation_results'][0]['input_uri']"
   ]
  },
  {
   "cell_type": "code",
   "execution_count": null,
   "id": "96ef1389",
   "metadata": {},
   "outputs": [],
   "source": [
    "#data['annotation_results'][0]['segment_label_annotations'][0]['entity']['description']"
   ]
  },
  {
   "cell_type": "code",
   "execution_count": null,
   "id": "45529718",
   "metadata": {},
   "outputs": [],
   "source": [
    "#data['annotation_results'][0]['shot_label_annotations'][0]['entity']['description']"
   ]
  },
  {
   "cell_type": "code",
   "execution_count": null,
   "id": "1938856a",
   "metadata": {},
   "outputs": [],
   "source": [
    "#data['annotation_results'][0]['text_annotations'][0]['text']"
   ]
  },
  {
   "cell_type": "code",
   "execution_count": null,
   "id": "e1ff8905",
   "metadata": {},
   "outputs": [],
   "source": [
    "#data['annotation_results'][1]['speech_transcriptions'][2]['alternatives'][0]['transcript']"
   ]
  },
  {
   "cell_type": "code",
   "execution_count": null,
   "id": "d8a6ed8f",
   "metadata": {},
   "outputs": [],
   "source": [
    "#data['annotation_results'][1]['speech_transcriptions'][2]['alternatives'][0]['confidence']"
   ]
  },
  {
   "cell_type": "code",
   "execution_count": 6,
   "id": "618c4aee",
   "metadata": {},
   "outputs": [],
   "source": [
    "label_annotations = []\n",
    "text_annotations = []\n",
    "logo_annotations = []\n",
    "speech_annotations = []\n",
    "\n",
    "for file in files:\n",
    "    \n",
    "    f = open(file)\n",
    "    data = json.load(f) \n",
    "    \n",
    "    for i in range(len(data['annotation_results'])):\n",
    "    \n",
    "        ar = data['annotation_results'][i]\n",
    "\n",
    "        uri = ar['input_uri']\n",
    "\n",
    "        if 'shot_label_annotations' in ar:\n",
    "\n",
    "            slas = []\n",
    "            for sla in ar['shot_label_annotations']:\n",
    "                label = sla['entity']['description']\n",
    "                slas.append(label)\n",
    "\n",
    "            label_annotations.append((uri, ','.join(slas)))\n",
    "\n",
    "        if 'text_annotations' in ar:\n",
    "            tas = []\n",
    "            for ta in ar['text_annotations']:\n",
    "                text = ta['text']\n",
    "                tas.append(text)\n",
    "\n",
    "            text_annotations.append((uri, ' '.join(tas)))\n",
    "\n",
    "        if 'logo_recognition_annotations' in ar.keys():                         \n",
    "            lras = []\n",
    "            for lra in ar['logo_recognition_annotations']:                  \n",
    "                logo = lra['entity']['description']\n",
    "                lras.append(logo)\n",
    "\n",
    "            logo_annotations.append((uri, ','.join(lras)))\n",
    "\n",
    "\n",
    "        #['speech_transcriptions'][2]['alternatives'][0]['transcript']\n",
    "        if 'speech_transcriptions' in ar:\n",
    "\n",
    "            sts = []\n",
    "            scs = []\n",
    "\n",
    "            for st in ar['speech_transcriptions']:\n",
    "\n",
    "                alt_conf = st['alternatives'][0]\n",
    "\n",
    "                if 'transcript' in alt_conf:\n",
    "                    speech = alt_conf['transcript']\n",
    "                    speech_confidence = alt_conf['confidence']\n",
    "                    #print(speech_confidence)\n",
    "                    sts.append(speech)\n",
    "                    if speech_confidence == []:\n",
    "                        speech_confidence = 0\n",
    "                        \n",
    "                    scs.append(float(speech_confidence))\n",
    "\n",
    "            speech_annotations.append((uri, ''.join(sts), np.mean(scs)))\n",
    "        \n",
    "    #print(file)"
   ]
  },
  {
   "cell_type": "code",
   "execution_count": 7,
   "id": "68c11a5a",
   "metadata": {},
   "outputs": [],
   "source": [
    "df_label_annotations = pd.DataFrame(label_annotations, columns=['uri', 'label'])\n",
    "df_text_annotations = pd.DataFrame(text_annotations, columns=['uri', 'text'])\n",
    "df_logo_annotations = pd.DataFrame(logo_annotations, columns=['uri', 'logo'])\n",
    "df_speech_annotations = pd.DataFrame(speech_annotations, columns=['uri', 'transcript', 'confidence'])"
   ]
  },
  {
   "cell_type": "code",
   "execution_count": 8,
   "id": "b7d60d61",
   "metadata": {},
   "outputs": [],
   "source": [
    "df_annotations = pysqldf(\"\"\"\n",
    "SELECT \n",
    "    sa.uri,\n",
    "    sa.transcript,\n",
    "    sa.confidence,\n",
    "    ta.text,\n",
    "    la.label,\n",
    "    lga.logo\n",
    "FROM\n",
    "    df_speech_annotations sa\n",
    "LEFT JOIN\n",
    "    df_label_annotations la\n",
    "ON\n",
    "    sa.uri = la.uri\n",
    "LEFT JOIN\n",
    "    df_text_annotations ta\n",
    "ON\n",
    "    sa.uri = ta.uri\n",
    "LEFT JOIN\n",
    "    df_logo_annotations lga\n",
    "ON\n",
    "    sa.uri = lga.uri\n",
    "\"\"\")"
   ]
  },
  {
   "cell_type": "code",
   "execution_count": 9,
   "id": "84d7848c",
   "metadata": {},
   "outputs": [],
   "source": [
    "df_annotations.insert(0, 'file_name', df_annotations['uri'].str.split('/').str[-1][:-4])"
   ]
  },
  {
   "cell_type": "code",
   "execution_count": 10,
   "id": "a7e03d7d",
   "metadata": {},
   "outputs": [],
   "source": [
    "df_annotations.insert(0, 'identifier', df_annotations['uri'].str.split('/').str[-2])"
   ]
  },
  {
   "cell_type": "code",
   "execution_count": 11,
   "id": "303aba18",
   "metadata": {},
   "outputs": [
    {
     "data": {
      "text/html": [
       "<div>\n",
       "<style scoped>\n",
       "    .dataframe tbody tr th:only-of-type {\n",
       "        vertical-align: middle;\n",
       "    }\n",
       "\n",
       "    .dataframe tbody tr th {\n",
       "        vertical-align: top;\n",
       "    }\n",
       "\n",
       "    .dataframe thead th {\n",
       "        text-align: right;\n",
       "    }\n",
       "</style>\n",
       "<table border=\"1\" class=\"dataframe\">\n",
       "  <thead>\n",
       "    <tr style=\"text-align: right;\">\n",
       "      <th></th>\n",
       "      <th>identifier</th>\n",
       "      <th>file_name</th>\n",
       "      <th>uri</th>\n",
       "      <th>transcript</th>\n",
       "      <th>confidence</th>\n",
       "      <th>text</th>\n",
       "      <th>label</th>\n",
       "      <th>logo</th>\n",
       "    </tr>\n",
       "  </thead>\n",
       "  <tbody>\n",
       "    <tr>\n",
       "      <th>0</th>\n",
       "      <td>input-idl-video-files</td>\n",
       "      <td>NaN</td>\n",
       "      <td>/input-idl-video-files/tobacco_demo.mp4</td>\n",
       "      <td>I think smoking makes you look cool. No way. W...</td>\n",
       "      <td>0.825757</td>\n",
       "      <td>P MErtis USA SUOLON GENERAL'S WARNING: Smoking...</td>\n",
       "      <td>black hair,finger,motor vehicle,sports,car,can...</td>\n",
       "      <td>Think Mutual Bank,Isuzu Philippines,New York J...</td>\n",
       "    </tr>\n",
       "  </tbody>\n",
       "</table>\n",
       "</div>"
      ],
      "text/plain": [
       "              identifier file_name                                      uri  \\\n",
       "0  input-idl-video-files       NaN  /input-idl-video-files/tobacco_demo.mp4   \n",
       "\n",
       "                                          transcript  confidence  \\\n",
       "0  I think smoking makes you look cool. No way. W...    0.825757   \n",
       "\n",
       "                                                text  \\\n",
       "0  P MErtis USA SUOLON GENERAL'S WARNING: Smoking...   \n",
       "\n",
       "                                               label  \\\n",
       "0  black hair,finger,motor vehicle,sports,car,can...   \n",
       "\n",
       "                                                logo  \n",
       "0  Think Mutual Bank,Isuzu Philippines,New York J...  "
      ]
     },
     "execution_count": 11,
     "metadata": {},
     "output_type": "execute_result"
    }
   ],
   "source": [
    "df_annotations.head(2)"
   ]
  },
  {
   "cell_type": "code",
   "execution_count": 13,
   "id": "db238944",
   "metadata": {},
   "outputs": [],
   "source": [
    "df_annotations['text_content'] = df_annotations['transcript']"
   ]
  },
  {
   "cell_type": "code",
   "execution_count": 14,
   "id": "a9278faf",
   "metadata": {},
   "outputs": [],
   "source": [
    "df_annotations.to_csv('sample_json/sample_json.csv', index=False)"
   ]
  },
  {
   "cell_type": "code",
   "execution_count": null,
   "id": "82071f3d",
   "metadata": {},
   "outputs": [],
   "source": []
  }
 ],
 "metadata": {
  "kernelspec": {
   "display_name": "Python 3 (ipykernel)",
   "language": "python",
   "name": "python3"
  },
  "language_info": {
   "codemirror_mode": {
    "name": "ipython",
    "version": 3
   },
   "file_extension": ".py",
   "mimetype": "text/x-python",
   "name": "python",
   "nbconvert_exporter": "python",
   "pygments_lexer": "ipython3",
   "version": "3.9.7"
  }
 },
 "nbformat": 4,
 "nbformat_minor": 5
}
